{
 "cells": [
  {
   "cell_type": "markdown",
   "id": "d12f55f5e70060bb",
   "metadata": {},
   "source": [
    "Data Scientist Workshop - ex.4.2 - Adam Trentowski, 162602"
   ]
  },
  {
   "cell_type": "code",
   "execution_count": 1,
   "id": "initial_id",
   "metadata": {
    "ExecuteTime": {
     "end_time": "2024-03-20T17:13:37.591074Z",
     "start_time": "2024-03-20T17:13:35.925348Z"
    }
   },
   "outputs": [],
   "source": [
    "import pandas as pd\n",
    "import numpy as np\n",
    "import matplotlib.pyplot as plt\n",
    "from sklearn.model_selection import train_test_split\n",
    "from sklearn.preprocessing import StandardScaler\n",
    "from sklearn.discriminant_analysis import LinearDiscriminantAnalysis\n",
    "from sklearn.linear_model import LogisticRegression\n",
    "from sklearn.metrics import confusion_matrix\n",
    "from sklearn.metrics import accuracy_score\n",
    "from matplotlib.colors import ListedColormap"
   ]
  },
  {
   "cell_type": "code",
   "execution_count": 2,
   "id": "336e6a91841147d3",
   "metadata": {
    "ExecuteTime": {
     "end_time": "2024-03-20T17:13:40.426863Z",
     "start_time": "2024-03-20T17:13:40.286307Z"
    }
   },
   "outputs": [
    {
     "data": {
      "text/plain": [
       "(137, 23)"
      ]
     },
     "execution_count": 2,
     "metadata": {},
     "output_type": "execute_result"
    }
   ],
   "source": [
    "dataset = pd.read_csv('D:/Projekty/DataScientistWorkshop/lab_04/files/ToxinsbaseClass.csv')\n",
    "dataset.shape"
   ]
  },
  {
   "cell_type": "code",
   "execution_count": 3,
   "id": "663ae2a730d2b4fd",
   "metadata": {
    "ExecuteTime": {
     "end_time": "2024-03-20T17:14:34.888483Z",
     "start_time": "2024-03-20T17:14:34.863836Z"
    }
   },
   "outputs": [
    {
     "data": {
      "text/html": [
       "<div>\n",
       "<style scoped>\n",
       "    .dataframe tbody tr th:only-of-type {\n",
       "        vertical-align: middle;\n",
       "    }\n",
       "\n",
       "    .dataframe tbody tr th {\n",
       "        vertical-align: top;\n",
       "    }\n",
       "\n",
       "    .dataframe thead th {\n",
       "        text-align: right;\n",
       "    }\n",
       "</style>\n",
       "<table border=\"1\" class=\"dataframe\">\n",
       "  <thead>\n",
       "    <tr style=\"text-align: right;\">\n",
       "      <th></th>\n",
       "      <th>Latitude</th>\n",
       "      <th>Longitude</th>\n",
       "      <th>MaximumDepth</th>\n",
       "      <th>SecchiDepth</th>\n",
       "      <th>Sampling Depth</th>\n",
       "      <th>T_Surf</th>\n",
       "      <th>T_Epi</th>\n",
       "      <th>Zeu / Zmix</th>\n",
       "      <th>BuoyFreq</th>\n",
       "      <th>TP</th>\n",
       "      <th>...</th>\n",
       "      <th>MC_dmRR</th>\n",
       "      <th>MC_RR</th>\n",
       "      <th>MC_dmLR</th>\n",
       "      <th>MC_LR</th>\n",
       "      <th>CYN</th>\n",
       "      <th>ATX</th>\n",
       "      <th>ToxinRichness</th>\n",
       "      <th>TDI</th>\n",
       "      <th>TTC</th>\n",
       "      <th>Toxicity</th>\n",
       "    </tr>\n",
       "  </thead>\n",
       "  <tbody>\n",
       "    <tr>\n",
       "      <th>0</th>\n",
       "      <td>46.673750</td>\n",
       "      <td>6.322253</td>\n",
       "      <td>18.0</td>\n",
       "      <td>1.05</td>\n",
       "      <td>10.5</td>\n",
       "      <td>22.5</td>\n",
       "      <td>21.1</td>\n",
       "      <td>0.21</td>\n",
       "      <td>0.01</td>\n",
       "      <td>0.02</td>\n",
       "      <td>...</td>\n",
       "      <td>0.000</td>\n",
       "      <td>0.0</td>\n",
       "      <td>0.001</td>\n",
       "      <td>0.000</td>\n",
       "      <td>0.0</td>\n",
       "      <td>0.0</td>\n",
       "      <td>2</td>\n",
       "      <td>0.42</td>\n",
       "      <td>0.001</td>\n",
       "      <td>1</td>\n",
       "    </tr>\n",
       "    <tr>\n",
       "      <th>1</th>\n",
       "      <td>46.514161</td>\n",
       "      <td>6.773583</td>\n",
       "      <td>13.0</td>\n",
       "      <td>1.60</td>\n",
       "      <td>9.0</td>\n",
       "      <td>20.4</td>\n",
       "      <td>19.3</td>\n",
       "      <td>0.50</td>\n",
       "      <td>0.01</td>\n",
       "      <td>0.09</td>\n",
       "      <td>...</td>\n",
       "      <td>0.000</td>\n",
       "      <td>0.0</td>\n",
       "      <td>0.003</td>\n",
       "      <td>0.004</td>\n",
       "      <td>0.0</td>\n",
       "      <td>0.0</td>\n",
       "      <td>3</td>\n",
       "      <td>1.05</td>\n",
       "      <td>0.009</td>\n",
       "      <td>1</td>\n",
       "    </tr>\n",
       "    <tr>\n",
       "      <th>2</th>\n",
       "      <td>46.354617</td>\n",
       "      <td>6.152489</td>\n",
       "      <td>3.5</td>\n",
       "      <td>3.50</td>\n",
       "      <td>3.0</td>\n",
       "      <td>26.0</td>\n",
       "      <td>25.9</td>\n",
       "      <td>2.00</td>\n",
       "      <td>0.00</td>\n",
       "      <td>0.12</td>\n",
       "      <td>...</td>\n",
       "      <td>0.000</td>\n",
       "      <td>0.0</td>\n",
       "      <td>0.002</td>\n",
       "      <td>0.019</td>\n",
       "      <td>0.0</td>\n",
       "      <td>0.0</td>\n",
       "      <td>3</td>\n",
       "      <td>0.39</td>\n",
       "      <td>0.021</td>\n",
       "      <td>1</td>\n",
       "    </tr>\n",
       "    <tr>\n",
       "      <th>3</th>\n",
       "      <td>47.287447</td>\n",
       "      <td>8.211500</td>\n",
       "      <td>48.0</td>\n",
       "      <td>1.75</td>\n",
       "      <td>12.0</td>\n",
       "      <td>23.9</td>\n",
       "      <td>19.4</td>\n",
       "      <td>0.52</td>\n",
       "      <td>0.01</td>\n",
       "      <td>0.02</td>\n",
       "      <td>...</td>\n",
       "      <td>0.302</td>\n",
       "      <td>0.0</td>\n",
       "      <td>0.290</td>\n",
       "      <td>0.005</td>\n",
       "      <td>0.0</td>\n",
       "      <td>0.0</td>\n",
       "      <td>4</td>\n",
       "      <td>1.00</td>\n",
       "      <td>0.668</td>\n",
       "      <td>2</td>\n",
       "    </tr>\n",
       "    <tr>\n",
       "      <th>4</th>\n",
       "      <td>46.638953</td>\n",
       "      <td>6.286464</td>\n",
       "      <td>32.0</td>\n",
       "      <td>4.00</td>\n",
       "      <td>11.0</td>\n",
       "      <td>21.5</td>\n",
       "      <td>19.7</td>\n",
       "      <td>0.91</td>\n",
       "      <td>0.01</td>\n",
       "      <td>0.07</td>\n",
       "      <td>...</td>\n",
       "      <td>0.090</td>\n",
       "      <td>0.0</td>\n",
       "      <td>0.056</td>\n",
       "      <td>0.003</td>\n",
       "      <td>0.0</td>\n",
       "      <td>0.0</td>\n",
       "      <td>4</td>\n",
       "      <td>1.07</td>\n",
       "      <td>0.177</td>\n",
       "      <td>2</td>\n",
       "    </tr>\n",
       "  </tbody>\n",
       "</table>\n",
       "<p>5 rows × 23 columns</p>\n",
       "</div>"
      ],
      "text/plain": [
       "   Latitude   Longitude   MaximumDepth   SecchiDepth   Sampling Depth   \\\n",
       "0  46.673750    6.322253           18.0          1.05             10.5   \n",
       "1  46.514161    6.773583           13.0          1.60              9.0   \n",
       "2  46.354617    6.152489            3.5          3.50              3.0   \n",
       "3  47.287447    8.211500           48.0          1.75             12.0   \n",
       "4  46.638953    6.286464           32.0          4.00             11.0   \n",
       "\n",
       "   T_Surf   T_Epi   Zeu / Zmix  BuoyFreq   TP   ...  MC_dmRR   MC_RR   \\\n",
       "0     22.5    21.1        0.21      0.01  0.02  ...     0.000     0.0   \n",
       "1     20.4    19.3        0.50      0.01  0.09  ...     0.000     0.0   \n",
       "2     26.0    25.9        2.00      0.00  0.12  ...     0.000     0.0   \n",
       "3     23.9    19.4        0.52      0.01  0.02  ...     0.302     0.0   \n",
       "4     21.5    19.7        0.91      0.01  0.07  ...     0.090     0.0   \n",
       "\n",
       "   MC_dmLR   MC_LR   CYN   ATX   ToxinRichness   TDI    TTC  Toxicity  \n",
       "0     0.001   0.000   0.0   0.0              2  0.42  0.001         1  \n",
       "1     0.003   0.004   0.0   0.0              3  1.05  0.009         1  \n",
       "2     0.002   0.019   0.0   0.0              3  0.39  0.021         1  \n",
       "3     0.290   0.005   0.0   0.0              4  1.00  0.668         2  \n",
       "4     0.056   0.003   0.0   0.0              4  1.07  0.177         2  \n",
       "\n",
       "[5 rows x 23 columns]"
      ]
     },
     "execution_count": 3,
     "metadata": {},
     "output_type": "execute_result"
    }
   ],
   "source": [
    "dataset.head()"
   ]
  },
  {
   "cell_type": "code",
   "execution_count": 4,
   "id": "b66983173d8408d8",
   "metadata": {
    "ExecuteTime": {
     "end_time": "2024-03-20T17:14:35.656972Z",
     "start_time": "2024-03-20T17:14:35.589808Z"
    }
   },
   "outputs": [
    {
     "data": {
      "text/html": [
       "<div>\n",
       "<style scoped>\n",
       "    .dataframe tbody tr th:only-of-type {\n",
       "        vertical-align: middle;\n",
       "    }\n",
       "\n",
       "    .dataframe tbody tr th {\n",
       "        vertical-align: top;\n",
       "    }\n",
       "\n",
       "    .dataframe thead th {\n",
       "        text-align: right;\n",
       "    }\n",
       "</style>\n",
       "<table border=\"1\" class=\"dataframe\">\n",
       "  <thead>\n",
       "    <tr style=\"text-align: right;\">\n",
       "      <th></th>\n",
       "      <th>Latitude</th>\n",
       "      <th>Longitude</th>\n",
       "      <th>MaximumDepth</th>\n",
       "      <th>SecchiDepth</th>\n",
       "      <th>Sampling Depth</th>\n",
       "      <th>T_Surf</th>\n",
       "      <th>T_Epi</th>\n",
       "      <th>Zeu / Zmix</th>\n",
       "      <th>BuoyFreq</th>\n",
       "      <th>TP</th>\n",
       "      <th>...</th>\n",
       "      <th>MC_dmRR</th>\n",
       "      <th>MC_RR</th>\n",
       "      <th>MC_dmLR</th>\n",
       "      <th>MC_LR</th>\n",
       "      <th>CYN</th>\n",
       "      <th>ATX</th>\n",
       "      <th>ToxinRichness</th>\n",
       "      <th>TDI</th>\n",
       "      <th>TTC</th>\n",
       "      <th>Toxicity</th>\n",
       "    </tr>\n",
       "  </thead>\n",
       "  <tbody>\n",
       "    <tr>\n",
       "      <th>count</th>\n",
       "      <td>137.000000</td>\n",
       "      <td>137.000000</td>\n",
       "      <td>137.000000</td>\n",
       "      <td>137.000000</td>\n",
       "      <td>137.000000</td>\n",
       "      <td>137.000000</td>\n",
       "      <td>137.000000</td>\n",
       "      <td>137.000000</td>\n",
       "      <td>137.000000</td>\n",
       "      <td>137.000000</td>\n",
       "      <td>...</td>\n",
       "      <td>137.000000</td>\n",
       "      <td>137.000000</td>\n",
       "      <td>137.000000</td>\n",
       "      <td>137.000000</td>\n",
       "      <td>137.000000</td>\n",
       "      <td>137.000000</td>\n",
       "      <td>137.000000</td>\n",
       "      <td>137.000000</td>\n",
       "      <td>137.000000</td>\n",
       "      <td>137.000000</td>\n",
       "    </tr>\n",
       "    <tr>\n",
       "      <th>mean</th>\n",
       "      <td>51.104677</td>\n",
       "      <td>14.813468</td>\n",
       "      <td>17.987591</td>\n",
       "      <td>1.486715</td>\n",
       "      <td>6.429927</td>\n",
       "      <td>22.183212</td>\n",
       "      <td>20.775912</td>\n",
       "      <td>0.987226</td>\n",
       "      <td>0.005693</td>\n",
       "      <td>0.088102</td>\n",
       "      <td>...</td>\n",
       "      <td>0.558226</td>\n",
       "      <td>0.205036</td>\n",
       "      <td>0.156095</td>\n",
       "      <td>0.199876</td>\n",
       "      <td>0.048482</td>\n",
       "      <td>0.028036</td>\n",
       "      <td>3.941606</td>\n",
       "      <td>0.780657</td>\n",
       "      <td>1.350766</td>\n",
       "      <td>1.832117</td>\n",
       "    </tr>\n",
       "    <tr>\n",
       "      <th>std</th>\n",
       "      <td>6.051893</td>\n",
       "      <td>10.720521</td>\n",
       "      <td>27.797015</td>\n",
       "      <td>1.258167</td>\n",
       "      <td>4.819238</td>\n",
       "      <td>3.102930</td>\n",
       "      <td>3.143774</td>\n",
       "      <td>1.117894</td>\n",
       "      <td>0.006159</td>\n",
       "      <td>0.109649</td>\n",
       "      <td>...</td>\n",
       "      <td>1.903642</td>\n",
       "      <td>0.507328</td>\n",
       "      <td>0.513956</td>\n",
       "      <td>0.574369</td>\n",
       "      <td>0.209486</td>\n",
       "      <td>0.124335</td>\n",
       "      <td>1.625922</td>\n",
       "      <td>0.394969</td>\n",
       "      <td>2.849080</td>\n",
       "      <td>0.800453</td>\n",
       "    </tr>\n",
       "    <tr>\n",
       "      <th>min</th>\n",
       "      <td>36.755550</td>\n",
       "      <td>-25.788917</td>\n",
       "      <td>1.000000</td>\n",
       "      <td>0.160000</td>\n",
       "      <td>0.700000</td>\n",
       "      <td>9.000000</td>\n",
       "      <td>8.700000</td>\n",
       "      <td>0.040000</td>\n",
       "      <td>0.000000</td>\n",
       "      <td>0.010000</td>\n",
       "      <td>...</td>\n",
       "      <td>0.000000</td>\n",
       "      <td>0.000000</td>\n",
       "      <td>0.000000</td>\n",
       "      <td>0.000000</td>\n",
       "      <td>0.000000</td>\n",
       "      <td>0.000000</td>\n",
       "      <td>1.000000</td>\n",
       "      <td>0.000000</td>\n",
       "      <td>0.000000</td>\n",
       "      <td>1.000000</td>\n",
       "    </tr>\n",
       "    <tr>\n",
       "      <th>25%</th>\n",
       "      <td>47.350792</td>\n",
       "      <td>10.983188</td>\n",
       "      <td>4.500000</td>\n",
       "      <td>0.650000</td>\n",
       "      <td>3.000000</td>\n",
       "      <td>20.300000</td>\n",
       "      <td>18.900000</td>\n",
       "      <td>0.350000</td>\n",
       "      <td>0.000000</td>\n",
       "      <td>0.030000</td>\n",
       "      <td>...</td>\n",
       "      <td>0.000000</td>\n",
       "      <td>0.000000</td>\n",
       "      <td>0.002000</td>\n",
       "      <td>0.000000</td>\n",
       "      <td>0.000000</td>\n",
       "      <td>0.000000</td>\n",
       "      <td>3.000000</td>\n",
       "      <td>0.530000</td>\n",
       "      <td>0.033000</td>\n",
       "      <td>1.000000</td>\n",
       "    </tr>\n",
       "    <tr>\n",
       "      <th>50%</th>\n",
       "      <td>52.413611</td>\n",
       "      <td>16.698806</td>\n",
       "      <td>9.000000</td>\n",
       "      <td>1.050000</td>\n",
       "      <td>5.000000</td>\n",
       "      <td>22.000000</td>\n",
       "      <td>20.400000</td>\n",
       "      <td>0.550000</td>\n",
       "      <td>0.010000</td>\n",
       "      <td>0.060000</td>\n",
       "      <td>...</td>\n",
       "      <td>0.000000</td>\n",
       "      <td>0.000000</td>\n",
       "      <td>0.007000</td>\n",
       "      <td>0.017000</td>\n",
       "      <td>0.000000</td>\n",
       "      <td>0.000000</td>\n",
       "      <td>4.000000</td>\n",
       "      <td>0.880000</td>\n",
       "      <td>0.189000</td>\n",
       "      <td>2.000000</td>\n",
       "    </tr>\n",
       "    <tr>\n",
       "      <th>75%</th>\n",
       "      <td>54.591528</td>\n",
       "      <td>21.592222</td>\n",
       "      <td>23.000000</td>\n",
       "      <td>1.800000</td>\n",
       "      <td>9.000000</td>\n",
       "      <td>23.900000</td>\n",
       "      <td>22.300000</td>\n",
       "      <td>1.230000</td>\n",
       "      <td>0.010000</td>\n",
       "      <td>0.090000</td>\n",
       "      <td>...</td>\n",
       "      <td>0.086000</td>\n",
       "      <td>0.119000</td>\n",
       "      <td>0.047000</td>\n",
       "      <td>0.098000</td>\n",
       "      <td>0.004000</td>\n",
       "      <td>0.004000</td>\n",
       "      <td>5.000000</td>\n",
       "      <td>1.060000</td>\n",
       "      <td>0.901000</td>\n",
       "      <td>2.000000</td>\n",
       "    </tr>\n",
       "    <tr>\n",
       "      <th>max</th>\n",
       "      <td>62.239189</td>\n",
       "      <td>32.832500</td>\n",
       "      <td>251.000000</td>\n",
       "      <td>6.200000</td>\n",
       "      <td>30.000000</td>\n",
       "      <td>31.400000</td>\n",
       "      <td>31.200000</td>\n",
       "      <td>8.800000</td>\n",
       "      <td>0.030000</td>\n",
       "      <td>0.870000</td>\n",
       "      <td>...</td>\n",
       "      <td>14.892000</td>\n",
       "      <td>3.309000</td>\n",
       "      <td>3.166000</td>\n",
       "      <td>3.968000</td>\n",
       "      <td>2.007000</td>\n",
       "      <td>1.333000</td>\n",
       "      <td>7.000000</td>\n",
       "      <td>1.440000</td>\n",
       "      <td>17.189000</td>\n",
       "      <td>3.000000</td>\n",
       "    </tr>\n",
       "  </tbody>\n",
       "</table>\n",
       "<p>8 rows × 23 columns</p>\n",
       "</div>"
      ],
      "text/plain": [
       "        Latitude   Longitude   MaximumDepth   SecchiDepth   Sampling Depth   \\\n",
       "count  137.000000  137.000000     137.000000    137.000000       137.000000   \n",
       "mean    51.104677   14.813468      17.987591      1.486715         6.429927   \n",
       "std      6.051893   10.720521      27.797015      1.258167         4.819238   \n",
       "min     36.755550  -25.788917       1.000000      0.160000         0.700000   \n",
       "25%     47.350792   10.983188       4.500000      0.650000         3.000000   \n",
       "50%     52.413611   16.698806       9.000000      1.050000         5.000000   \n",
       "75%     54.591528   21.592222      23.000000      1.800000         9.000000   \n",
       "max     62.239189   32.832500     251.000000      6.200000        30.000000   \n",
       "\n",
       "          T_Surf       T_Epi   Zeu / Zmix    BuoyFreq         TP   ...  \\\n",
       "count  137.000000  137.000000  137.000000  137.000000  137.000000  ...   \n",
       "mean    22.183212   20.775912    0.987226    0.005693    0.088102  ...   \n",
       "std      3.102930    3.143774    1.117894    0.006159    0.109649  ...   \n",
       "min      9.000000    8.700000    0.040000    0.000000    0.010000  ...   \n",
       "25%     20.300000   18.900000    0.350000    0.000000    0.030000  ...   \n",
       "50%     22.000000   20.400000    0.550000    0.010000    0.060000  ...   \n",
       "75%     23.900000   22.300000    1.230000    0.010000    0.090000  ...   \n",
       "max     31.400000   31.200000    8.800000    0.030000    0.870000  ...   \n",
       "\n",
       "         MC_dmRR       MC_RR     MC_dmLR       MC_LR         CYN         ATX   \\\n",
       "count  137.000000  137.000000  137.000000  137.000000  137.000000  137.000000   \n",
       "mean     0.558226    0.205036    0.156095    0.199876    0.048482    0.028036   \n",
       "std      1.903642    0.507328    0.513956    0.574369    0.209486    0.124335   \n",
       "min      0.000000    0.000000    0.000000    0.000000    0.000000    0.000000   \n",
       "25%      0.000000    0.000000    0.002000    0.000000    0.000000    0.000000   \n",
       "50%      0.000000    0.000000    0.007000    0.017000    0.000000    0.000000   \n",
       "75%      0.086000    0.119000    0.047000    0.098000    0.004000    0.004000   \n",
       "max     14.892000    3.309000    3.166000    3.968000    2.007000    1.333000   \n",
       "\n",
       "       ToxinRichness         TDI         TTC    Toxicity  \n",
       "count     137.000000  137.000000  137.000000  137.000000  \n",
       "mean        3.941606    0.780657    1.350766    1.832117  \n",
       "std         1.625922    0.394969    2.849080    0.800453  \n",
       "min         1.000000    0.000000    0.000000    1.000000  \n",
       "25%         3.000000    0.530000    0.033000    1.000000  \n",
       "50%         4.000000    0.880000    0.189000    2.000000  \n",
       "75%         5.000000    1.060000    0.901000    2.000000  \n",
       "max         7.000000    1.440000   17.189000    3.000000  \n",
       "\n",
       "[8 rows x 23 columns]"
      ]
     },
     "execution_count": 4,
     "metadata": {},
     "output_type": "execute_result"
    }
   ],
   "source": [
    "dataset.describe()"
   ]
  },
  {
   "cell_type": "code",
   "execution_count": 5,
   "id": "6ceb57a49cf521cc",
   "metadata": {
    "ExecuteTime": {
     "end_time": "2024-03-20T17:14:36.422215Z",
     "start_time": "2024-03-20T17:14:36.415119Z"
    }
   },
   "outputs": [],
   "source": [
    "X = dataset.iloc[:, 0:22].values\n",
    "y = dataset.iloc[:, 22].values"
   ]
  },
  {
   "cell_type": "code",
   "execution_count": 6,
   "id": "35001ea9ac3cde19",
   "metadata": {
    "ExecuteTime": {
     "end_time": "2024-03-20T17:14:37.557971Z",
     "start_time": "2024-03-20T17:14:37.551368Z"
    }
   },
   "outputs": [],
   "source": [
    "X_train, X_test, y_train, y_test = train_test_split(X, y, test_size=0.3, random_state=0)"
   ]
  },
  {
   "cell_type": "code",
   "execution_count": 7,
   "id": "c6549626ef13901a",
   "metadata": {
    "ExecuteTime": {
     "end_time": "2024-03-20T17:14:39.138340Z",
     "start_time": "2024-03-20T17:14:39.129994Z"
    }
   },
   "outputs": [],
   "source": [
    "sc_X = StandardScaler()\n",
    "X_train = sc_X.fit_transform(X_train)\n",
    "X_test = sc_X.fit_transform(X_test)  # transform?"
   ]
  },
  {
   "cell_type": "code",
   "execution_count": 8,
   "id": "8e5970a01a8562f9",
   "metadata": {
    "ExecuteTime": {
     "end_time": "2024-03-20T17:14:40.218506Z",
     "start_time": "2024-03-20T17:14:40.214259Z"
    }
   },
   "outputs": [],
   "source": [
    "lda = LinearDiscriminantAnalysis(n_components = 2)"
   ]
  },
  {
   "cell_type": "code",
   "execution_count": 9,
   "id": "1841de15c6ee70fa",
   "metadata": {
    "ExecuteTime": {
     "end_time": "2024-03-20T17:14:40.881398Z",
     "start_time": "2024-03-20T17:14:40.869763Z"
    }
   },
   "outputs": [],
   "source": [
    "X_train = lda.fit(X_train, y_train).transform(X_train)\n",
    "X_test = lda.fit(X_test, y_test).transform(X_test)"
   ]
  },
  {
   "cell_type": "code",
   "execution_count": 10,
   "id": "aec223edc04fc68f",
   "metadata": {
    "ExecuteTime": {
     "end_time": "2024-03-20T17:14:41.544374Z",
     "start_time": "2024-03-20T17:14:41.537105Z"
    }
   },
   "outputs": [
    {
     "data": {
      "text/plain": [
       "array([0.92699784, 0.07300216])"
      ]
     },
     "execution_count": 10,
     "metadata": {},
     "output_type": "execute_result"
    }
   ],
   "source": [
    "explained_variance = lda.explained_variance_ratio_\n",
    "explained_variance"
   ]
  },
  {
   "cell_type": "code",
   "execution_count": 11,
   "id": "492d19e26b0eeb5d",
   "metadata": {
    "ExecuteTime": {
     "end_time": "2024-03-20T17:14:43.433271Z",
     "start_time": "2024-03-20T17:14:43.420799Z"
    }
   },
   "outputs": [
    {
     "data": {
      "text/html": [
       "<style>#sk-container-id-1 {color: black;}#sk-container-id-1 pre{padding: 0;}#sk-container-id-1 div.sk-toggleable {background-color: white;}#sk-container-id-1 label.sk-toggleable__label {cursor: pointer;display: block;width: 100%;margin-bottom: 0;padding: 0.3em;box-sizing: border-box;text-align: center;}#sk-container-id-1 label.sk-toggleable__label-arrow:before {content: \"▸\";float: left;margin-right: 0.25em;color: #696969;}#sk-container-id-1 label.sk-toggleable__label-arrow:hover:before {color: black;}#sk-container-id-1 div.sk-estimator:hover label.sk-toggleable__label-arrow:before {color: black;}#sk-container-id-1 div.sk-toggleable__content {max-height: 0;max-width: 0;overflow: hidden;text-align: left;background-color: #f0f8ff;}#sk-container-id-1 div.sk-toggleable__content pre {margin: 0.2em;color: black;border-radius: 0.25em;background-color: #f0f8ff;}#sk-container-id-1 input.sk-toggleable__control:checked~div.sk-toggleable__content {max-height: 200px;max-width: 100%;overflow: auto;}#sk-container-id-1 input.sk-toggleable__control:checked~label.sk-toggleable__label-arrow:before {content: \"▾\";}#sk-container-id-1 div.sk-estimator input.sk-toggleable__control:checked~label.sk-toggleable__label {background-color: #d4ebff;}#sk-container-id-1 div.sk-label input.sk-toggleable__control:checked~label.sk-toggleable__label {background-color: #d4ebff;}#sk-container-id-1 input.sk-hidden--visually {border: 0;clip: rect(1px 1px 1px 1px);clip: rect(1px, 1px, 1px, 1px);height: 1px;margin: -1px;overflow: hidden;padding: 0;position: absolute;width: 1px;}#sk-container-id-1 div.sk-estimator {font-family: monospace;background-color: #f0f8ff;border: 1px dotted black;border-radius: 0.25em;box-sizing: border-box;margin-bottom: 0.5em;}#sk-container-id-1 div.sk-estimator:hover {background-color: #d4ebff;}#sk-container-id-1 div.sk-parallel-item::after {content: \"\";width: 100%;border-bottom: 1px solid gray;flex-grow: 1;}#sk-container-id-1 div.sk-label:hover label.sk-toggleable__label {background-color: #d4ebff;}#sk-container-id-1 div.sk-serial::before {content: \"\";position: absolute;border-left: 1px solid gray;box-sizing: border-box;top: 0;bottom: 0;left: 50%;z-index: 0;}#sk-container-id-1 div.sk-serial {display: flex;flex-direction: column;align-items: center;background-color: white;padding-right: 0.2em;padding-left: 0.2em;position: relative;}#sk-container-id-1 div.sk-item {position: relative;z-index: 1;}#sk-container-id-1 div.sk-parallel {display: flex;align-items: stretch;justify-content: center;background-color: white;position: relative;}#sk-container-id-1 div.sk-item::before, #sk-container-id-1 div.sk-parallel-item::before {content: \"\";position: absolute;border-left: 1px solid gray;box-sizing: border-box;top: 0;bottom: 0;left: 50%;z-index: -1;}#sk-container-id-1 div.sk-parallel-item {display: flex;flex-direction: column;z-index: 1;position: relative;background-color: white;}#sk-container-id-1 div.sk-parallel-item:first-child::after {align-self: flex-end;width: 50%;}#sk-container-id-1 div.sk-parallel-item:last-child::after {align-self: flex-start;width: 50%;}#sk-container-id-1 div.sk-parallel-item:only-child::after {width: 0;}#sk-container-id-1 div.sk-dashed-wrapped {border: 1px dashed gray;margin: 0 0.4em 0.5em 0.4em;box-sizing: border-box;padding-bottom: 0.4em;background-color: white;}#sk-container-id-1 div.sk-label label {font-family: monospace;font-weight: bold;display: inline-block;line-height: 1.2em;}#sk-container-id-1 div.sk-label-container {text-align: center;}#sk-container-id-1 div.sk-container {/* jupyter's `normalize.less` sets `[hidden] { display: none; }` but bootstrap.min.css set `[hidden] { display: none !important; }` so we also need the `!important` here to be able to override the default hidden behavior on the sphinx rendered scikit-learn.org. See: https://github.com/scikit-learn/scikit-learn/issues/21755 */display: inline-block !important;position: relative;}#sk-container-id-1 div.sk-text-repr-fallback {display: none;}</style><div id=\"sk-container-id-1\" class=\"sk-top-container\"><div class=\"sk-text-repr-fallback\"><pre>LogisticRegression(random_state=0)</pre><b>In a Jupyter environment, please rerun this cell to show the HTML representation or trust the notebook. <br />On GitHub, the HTML representation is unable to render, please try loading this page with nbviewer.org.</b></div><div class=\"sk-container\" hidden><div class=\"sk-item\"><div class=\"sk-estimator sk-toggleable\"><input class=\"sk-toggleable__control sk-hidden--visually\" id=\"sk-estimator-id-1\" type=\"checkbox\" checked><label for=\"sk-estimator-id-1\" class=\"sk-toggleable__label sk-toggleable__label-arrow\">LogisticRegression</label><div class=\"sk-toggleable__content\"><pre>LogisticRegression(random_state=0)</pre></div></div></div></div></div>"
      ],
      "text/plain": [
       "LogisticRegression(random_state=0)"
      ]
     },
     "execution_count": 11,
     "metadata": {},
     "output_type": "execute_result"
    }
   ],
   "source": [
    "classifier = LogisticRegression(random_state = 0)\n",
    "classifier.fit(X_train, y_train)"
   ]
  },
  {
   "cell_type": "code",
   "execution_count": 12,
   "id": "2f817734fe135e6f",
   "metadata": {
    "ExecuteTime": {
     "end_time": "2024-03-20T17:14:45.763943Z",
     "start_time": "2024-03-20T17:14:45.757299Z"
    }
   },
   "outputs": [
    {
     "data": {
      "text/plain": [
       "array([2, 1, 1, 1, 2, 1, 1, 1, 3, 1, 3, 2, 2, 1, 3, 2, 1, 1, 3, 1, 3, 1,\n",
       "       3, 1, 1, 1, 2, 2, 2, 1, 1, 3, 3, 2, 2, 2, 2, 1, 1, 3, 3, 1],\n",
       "      dtype=int64)"
      ]
     },
     "execution_count": 12,
     "metadata": {},
     "output_type": "execute_result"
    }
   ],
   "source": [
    "y_pred = classifier.predict(X_test)\n",
    "y_pred"
   ]
  },
  {
   "cell_type": "code",
   "execution_count": 13,
   "id": "58ca4be7f4540148",
   "metadata": {
    "ExecuteTime": {
     "end_time": "2024-03-20T17:14:47.159099Z",
     "start_time": "2024-03-20T17:14:47.151209Z"
    }
   },
   "outputs": [
    {
     "data": {
      "text/plain": [
       "array([[ 8, 12,  0],\n",
       "       [12,  0,  1],\n",
       "       [ 0,  0,  9]], dtype=int64)"
      ]
     },
     "execution_count": 13,
     "metadata": {},
     "output_type": "execute_result"
    }
   ],
   "source": [
    "confusion_matric = confusion_matrix(y_test, y_pred)\n",
    "confusion_matric"
   ]
  },
  {
   "cell_type": "code",
   "execution_count": 14,
   "id": "be782964b2dd5111",
   "metadata": {
    "ExecuteTime": {
     "end_time": "2024-03-20T17:14:49.480469Z",
     "start_time": "2024-03-20T17:14:49.468333Z"
    }
   },
   "outputs": [
    {
     "data": {
      "text/plain": [
       "0.40476190476190477"
      ]
     },
     "execution_count": 14,
     "metadata": {},
     "output_type": "execute_result"
    }
   ],
   "source": [
    "accuracy = accuracy_score(y_test, y_pred)\n",
    "accuracy"
   ]
  },
  {
   "cell_type": "code",
   "execution_count": 15,
   "id": "6d413f052b0a38e9",
   "metadata": {
    "ExecuteTime": {
     "end_time": "2024-03-20T17:14:50.918996Z",
     "start_time": "2024-03-20T17:14:50.910398Z"
    }
   },
   "outputs": [
    {
     "data": {
      "text/plain": [
       "array([3, 3, 3, 1, 1, 2, 1, 3, 1, 2, 1, 1, 3, 1, 1, 1, 1, 3, 2, 2, 2, 1,\n",
       "       3, 3, 2, 2, 1, 3, 1, 2, 1, 1, 2, 2, 1, 1, 3, 1, 1, 1, 1, 1, 2, 2,\n",
       "       2, 2, 3, 1, 1, 3, 3, 3, 2, 3, 2, 2, 2, 2, 1, 2, 1, 1, 1, 2, 3, 3,\n",
       "       3, 1, 1, 1, 2, 3, 2, 2, 2, 2, 2, 2, 1, 3, 3, 3, 3, 1, 2, 2, 2, 2,\n",
       "       1, 2, 3, 1, 3, 2, 1], dtype=int64)"
      ]
     },
     "execution_count": 15,
     "metadata": {},
     "output_type": "execute_result"
    }
   ],
   "source": [
    "y_pred = classifier.predict(X_train)\n",
    "y_pred"
   ]
  },
  {
   "cell_type": "code",
   "execution_count": 16,
   "id": "c4cbb4e226fd5d1f",
   "metadata": {
    "ExecuteTime": {
     "end_time": "2024-03-20T17:14:52.411972Z",
     "start_time": "2024-03-20T17:14:52.396147Z"
    }
   },
   "outputs": [
    {
     "data": {
      "text/plain": [
       "array([[33,  4,  0],\n",
       "       [ 3, 30,  0],\n",
       "       [ 0,  0, 25]], dtype=int64)"
      ]
     },
     "execution_count": 16,
     "metadata": {},
     "output_type": "execute_result"
    }
   ],
   "source": [
    "confusion_matric = confusion_matrix(y_train, y_pred)\n",
    "confusion_matric"
   ]
  },
  {
   "cell_type": "code",
   "execution_count": 17,
   "id": "574522bf37cc4218",
   "metadata": {
    "ExecuteTime": {
     "end_time": "2024-03-20T17:14:54.916142Z",
     "start_time": "2024-03-20T17:14:54.910123Z"
    }
   },
   "outputs": [
    {
     "data": {
      "text/plain": [
       "0.9263157894736842"
      ]
     },
     "execution_count": 17,
     "metadata": {},
     "output_type": "execute_result"
    }
   ],
   "source": [
    "accuracy = accuracy_score(y_train, y_pred)\n",
    "accuracy"
   ]
  },
  {
   "cell_type": "code",
   "execution_count": 18,
   "id": "c2155e8b9d056e25",
   "metadata": {
    "ExecuteTime": {
     "end_time": "2024-03-20T17:14:58.240305Z",
     "start_time": "2024-03-20T17:14:57.123875Z"
    }
   },
   "outputs": [
    {
     "name": "stderr",
     "output_type": "stream",
     "text": [
      "C:\\Users\\Adam\\AppData\\Local\\Temp\\ipykernel_16316\\1612053782.py:12: UserWarning: *c* argument looks like a single numeric RGB or RGBA sequence, which should be avoided as value-mapping will have precedence in case its length matches with *x* & *y*.  Please use the *color* keyword-argument or provide a 2D array with a single row if you intend to specify the same RGB or RGBA value for all points.\n",
      "  plt.scatter(X_set[y_set == j, 0], X_set[y_set == j, 1], c = ListedColormap(('orange', 'green', 'blue'))(i), label = j)\n"
     ]
    },
    {
     "data": {
      "image/png": "[encoded data removed]",
      "text/plain": [
       "<Figure size 640x480 with 1 Axes>"
      ]
     },
     "metadata": {},
     "output_type": "display_data"
    }
   ],
   "source": [
    "X_set, y_set = X_test, y_test\n",
    "\n",
    "X1, X2 = np.meshgrid(np.arange(start=X_set[: , 0].min() - 1, stop=X_set[: , 0].max() + 1, step=0.01),\n",
    "                     np.arange(start=X_set[: , 1].min() - 1, stop=X_set[: , 1].max() + 1, step=0.01))\n",
    "\n",
    "plt.contourf(X1, X2, classifier.predict(np.array([X1.ravel(), X2.ravel()]).T).reshape(X1.shape), alpha=0.75, cmap=ListedColormap(('red', 'green', 'blue')))\n",
    "\n",
    "plt.xlim(X1.min(), X1.max())\n",
    "plt.ylim(X2.min(), X2.max())\n",
    "\n",
    "for i, j in enumerate(np.unique(y_set)):\n",
    "    plt.scatter(X_set[y_set == j, 0], X_set[y_set == j, 1], c = ListedColormap(('orange', 'green', 'blue'))(i), label = j)\n",
    "\n",
    "plt.title('Logistic Regression (Test set)')\n",
    "plt.xlabel('LDA 1')\n",
    "plt.ylabel('LDA 2')\n",
    "plt.legend()\n",
    "\n",
    "plt.show()"
   ]
  },
  {
   "cell_type": "code",
   "execution_count": 19,
   "id": "9969e3baaa88818a",
   "metadata": {
    "ExecuteTime": {
     "end_time": "2024-03-20T17:14:59.358470Z",
     "start_time": "2024-03-20T17:14:58.610352Z"
    }
   },
   "outputs": [
    {
     "name": "stderr",
     "output_type": "stream",
     "text": [
      "C:\\Users\\Adam\\AppData\\Local\\Temp\\ipykernel_16316\\593714698.py:12: UserWarning: *c* argument looks like a single numeric RGB or RGBA sequence, which should be avoided as value-mapping will have precedence in case its length matches with *x* & *y*.  Please use the *color* keyword-argument or provide a 2D array with a single row if you intend to specify the same RGB or RGBA value for all points.\n",
      "  plt.scatter(X_set[y_set == j, 0], X_set[y_set == j, 1], c = ListedColormap(('orange', 'green', 'blue'))(i), label = j)\n"
     ]
    },
    {
     "data": {
      "image/png": "[encoded data removed]",
      "text/plain": [
       "<Figure size 640x480 with 1 Axes>"
      ]
     },
     "metadata": {},
     "output_type": "display_data"
    }
   ],
   "source": [
    "X_set, y_set = X_train, y_train\n",
    "\n",
    "X1, X2 = np.meshgrid(np.arange(start=X_set[: , 0].min() - 1, stop=X_set[: , 0].max() + 1, step=0.01),\n",
    "                     np.arange(start=X_set[: , 1].min() - 1, stop=X_set[: , 1].max() + 1, step=0.01))\n",
    "\n",
    "plt.contourf(X1, X2, classifier.predict(np.array([X1.ravel(), X2.ravel()]).T).reshape(X1.shape), alpha=0.75, cmap=ListedColormap(('red', 'green', 'blue')))\n",
    "\n",
    "plt.xlim(X1.min(), X1.max())\n",
    "plt.ylim(X2.min(), X2.max())\n",
    "\n",
    "for i, j in enumerate(np.unique(y_set)):\n",
    "    plt.scatter(X_set[y_set == j, 0], X_set[y_set == j, 1], c = ListedColormap(('orange', 'green', 'blue'))(i), label = j)\n",
    "\n",
    "plt.title('Logistic Regression (Train set)')\n",
    "plt.xlabel('LDA 1')\n",
    "plt.ylabel('LDA 2')\n",
    "plt.legend()\n",
    "\n",
    "plt.show()"
   ]
  }
 ],
 "metadata": {
  "kernelspec": {
   "display_name": "Python 3 (ipykernel)",
   "language": "python",
   "name": "python3"
  },
  "language_info": {
   "codemirror_mode": {
    "name": "ipython",
    "version": 3
   },
   "file_extension": ".py",
   "mimetype": "text/x-python",
   "name": "python",
   "nbconvert_exporter": "python",
   "pygments_lexer": "ipython3",
   "version": "3.11.5"
  }
 },
 "nbformat": 4,
 "nbformat_minor": 5
}
