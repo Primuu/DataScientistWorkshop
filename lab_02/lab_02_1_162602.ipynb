{
 "cells": [
  {
   "cell_type": "markdown",
   "source": [
    "Data Scientist Workshop - ex.2.1 - Adam Trentowski, 162602"
   ],
   "metadata": {
    "collapsed": false
   },
   "id": "f297579bf88a933e"
  },
  {
   "cell_type": "code",
   "outputs": [],
   "source": [
    "import pandas as pd\n",
    "import numpy as np\n",
    "import matplotlib.pyplot as plt\n",
    "import seaborn as sns\n",
    "from sklearn.model_selection import train_test_split\n",
    "from sklearn.linear_model import LogisticRegression\n",
    "from sklearn import metrics\n",
    "from sklearn.metrics import classification_report\n",
    "%matplotlib inline"
   ],
   "metadata": {
    "collapsed": false,
    "ExecuteTime": {
     "end_time": "2024-03-08T16:25:57.825431Z",
     "start_time": "2024-03-08T16:25:57.378462Z"
    }
   },
   "id": "f90fe8bd536d2841",
   "execution_count": 1
  },
  {
   "cell_type": "code",
   "outputs": [],
   "source": [
    "data = pd.read_csv('D:/Projekty/DataScientistWorkshop/lab_02/files/VLagun_Crus_Basins.csv')"
   ],
   "metadata": {
    "collapsed": false,
    "ExecuteTime": {
     "end_time": "2024-03-08T16:25:58.216387Z",
     "start_time": "2024-03-08T16:25:57.829806Z"
    }
   },
   "id": "59d0059c7a266841",
   "execution_count": 2
  },
  {
   "cell_type": "code",
   "outputs": [
    {
     "data": {
      "text/plain": "   Bosmina longirostris  Ceriodaphnia sp.  Diaphanosoma brachyurum  \\\n0                   0.0               0.0                      0.0   \n1                   0.0               0.0                      0.0   \n2                   0.0               0.0                      0.0   \n3                   0.0               0.0                      0.0   \n4                   0.0               0.0                      0.0   \n\n   Leptodora kindtii  Acartia longiremis  Acartia tonsa  Eurytemora affinis  \\\n0                0.0              2.0710         0.9298              0.9251   \n1                0.0              0.5014         0.0378              0.0000   \n2                0.0              0.0931         0.0000              0.0000   \n3                0.0              0.0000         0.0000              0.0129   \n4                0.0              0.0000         0.0000              0.0141   \n\n   Cyclops sp.  Nauplii Cyclopoida  Nauplii Calanoida  \\\n0       0.0000              0.0025             0.0257   \n1       0.0000              0.0000             0.0000   \n2       0.0093              0.0138             0.0006   \n3       0.0060              0.0140             0.0155   \n4       0.0000              0.0093             0.0007   \n\n   Thermocyclops oithonoides  Eurytemora lacustris  Basin  \n0                     0.0000                   0.0      0  \n1                     0.0000                   0.0      0  \n2                     0.0091                   0.0      0  \n3                     0.0179                   0.0      0  \n4                     0.0166                   0.0      0  ",
      "text/html": "<div>\n<style scoped>\n    .dataframe tbody tr th:only-of-type {\n        vertical-align: middle;\n    }\n\n    .dataframe tbody tr th {\n        vertical-align: top;\n    }\n\n    .dataframe thead th {\n        text-align: right;\n    }\n</style>\n<table border=\"1\" class=\"dataframe\">\n  <thead>\n    <tr style=\"text-align: right;\">\n      <th></th>\n      <th>Bosmina longirostris</th>\n      <th>Ceriodaphnia sp.</th>\n      <th>Diaphanosoma brachyurum</th>\n      <th>Leptodora kindtii</th>\n      <th>Acartia longiremis</th>\n      <th>Acartia tonsa</th>\n      <th>Eurytemora affinis</th>\n      <th>Cyclops sp.</th>\n      <th>Nauplii Cyclopoida</th>\n      <th>Nauplii Calanoida</th>\n      <th>Thermocyclops oithonoides</th>\n      <th>Eurytemora lacustris</th>\n      <th>Basin</th>\n    </tr>\n  </thead>\n  <tbody>\n    <tr>\n      <th>0</th>\n      <td>0.0</td>\n      <td>0.0</td>\n      <td>0.0</td>\n      <td>0.0</td>\n      <td>2.0710</td>\n      <td>0.9298</td>\n      <td>0.9251</td>\n      <td>0.0000</td>\n      <td>0.0025</td>\n      <td>0.0257</td>\n      <td>0.0000</td>\n      <td>0.0</td>\n      <td>0</td>\n    </tr>\n    <tr>\n      <th>1</th>\n      <td>0.0</td>\n      <td>0.0</td>\n      <td>0.0</td>\n      <td>0.0</td>\n      <td>0.5014</td>\n      <td>0.0378</td>\n      <td>0.0000</td>\n      <td>0.0000</td>\n      <td>0.0000</td>\n      <td>0.0000</td>\n      <td>0.0000</td>\n      <td>0.0</td>\n      <td>0</td>\n    </tr>\n    <tr>\n      <th>2</th>\n      <td>0.0</td>\n      <td>0.0</td>\n      <td>0.0</td>\n      <td>0.0</td>\n      <td>0.0931</td>\n      <td>0.0000</td>\n      <td>0.0000</td>\n      <td>0.0093</td>\n      <td>0.0138</td>\n      <td>0.0006</td>\n      <td>0.0091</td>\n      <td>0.0</td>\n      <td>0</td>\n    </tr>\n    <tr>\n      <th>3</th>\n      <td>0.0</td>\n      <td>0.0</td>\n      <td>0.0</td>\n      <td>0.0</td>\n      <td>0.0000</td>\n      <td>0.0000</td>\n      <td>0.0129</td>\n      <td>0.0060</td>\n      <td>0.0140</td>\n      <td>0.0155</td>\n      <td>0.0179</td>\n      <td>0.0</td>\n      <td>0</td>\n    </tr>\n    <tr>\n      <th>4</th>\n      <td>0.0</td>\n      <td>0.0</td>\n      <td>0.0</td>\n      <td>0.0</td>\n      <td>0.0000</td>\n      <td>0.0000</td>\n      <td>0.0141</td>\n      <td>0.0000</td>\n      <td>0.0093</td>\n      <td>0.0007</td>\n      <td>0.0166</td>\n      <td>0.0</td>\n      <td>0</td>\n    </tr>\n  </tbody>\n</table>\n</div>"
     },
     "execution_count": 3,
     "metadata": {},
     "output_type": "execute_result"
    }
   ],
   "source": [
    "data.head()"
   ],
   "metadata": {
    "collapsed": false,
    "ExecuteTime": {
     "end_time": "2024-03-08T16:25:58.268746Z",
     "start_time": "2024-03-08T16:25:58.219950Z"
    }
   },
   "id": "755af1faa7eaa66c",
   "execution_count": 3
  },
  {
   "cell_type": "code",
   "outputs": [
    {
     "data": {
      "text/plain": "   Bosmina longirostris  Ceriodaphnia sp.  Diaphanosoma brachyurum  \\\n0                   0.0               0.0                      0.0   \n1                   0.0               0.0                      0.0   \n2                   0.0               0.0                      0.0   \n3                   0.0               0.0                      0.0   \n4                   0.0               0.0                      0.0   \n\n   Leptodora kindtii  Acartia longiremis  Acartia tonsa  Eurytemora affinis  \\\n0                0.0              2.0710         0.9298              0.9251   \n1                0.0              0.5014         0.0378              0.0000   \n2                0.0              0.0931         0.0000              0.0000   \n3                0.0              0.0000         0.0000              0.0129   \n4                0.0              0.0000         0.0000              0.0141   \n\n   Cyclops sp.  Nauplii Cyclopoida  Nauplii Calanoida  \\\n0       0.0000              0.0025             0.0257   \n1       0.0000              0.0000             0.0000   \n2       0.0093              0.0138             0.0006   \n3       0.0060              0.0140             0.0155   \n4       0.0000              0.0093             0.0007   \n\n   Thermocyclops oithonoides  Eurytemora lacustris  Basin  \n0                     0.0000                   0.0      0  \n1                     0.0000                   0.0      0  \n2                     0.0091                   0.0      0  \n3                     0.0179                   0.0      0  \n4                     0.0166                   0.0      0  ",
      "text/html": "<div>\n<style scoped>\n    .dataframe tbody tr th:only-of-type {\n        vertical-align: middle;\n    }\n\n    .dataframe tbody tr th {\n        vertical-align: top;\n    }\n\n    .dataframe thead th {\n        text-align: right;\n    }\n</style>\n<table border=\"1\" class=\"dataframe\">\n  <thead>\n    <tr style=\"text-align: right;\">\n      <th></th>\n      <th>Bosmina longirostris</th>\n      <th>Ceriodaphnia sp.</th>\n      <th>Diaphanosoma brachyurum</th>\n      <th>Leptodora kindtii</th>\n      <th>Acartia longiremis</th>\n      <th>Acartia tonsa</th>\n      <th>Eurytemora affinis</th>\n      <th>Cyclops sp.</th>\n      <th>Nauplii Cyclopoida</th>\n      <th>Nauplii Calanoida</th>\n      <th>Thermocyclops oithonoides</th>\n      <th>Eurytemora lacustris</th>\n      <th>Basin</th>\n    </tr>\n  </thead>\n  <tbody>\n    <tr>\n      <th>0</th>\n      <td>0.0</td>\n      <td>0.0</td>\n      <td>0.0</td>\n      <td>0.0</td>\n      <td>2.0710</td>\n      <td>0.9298</td>\n      <td>0.9251</td>\n      <td>0.0000</td>\n      <td>0.0025</td>\n      <td>0.0257</td>\n      <td>0.0000</td>\n      <td>0.0</td>\n      <td>0</td>\n    </tr>\n    <tr>\n      <th>1</th>\n      <td>0.0</td>\n      <td>0.0</td>\n      <td>0.0</td>\n      <td>0.0</td>\n      <td>0.5014</td>\n      <td>0.0378</td>\n      <td>0.0000</td>\n      <td>0.0000</td>\n      <td>0.0000</td>\n      <td>0.0000</td>\n      <td>0.0000</td>\n      <td>0.0</td>\n      <td>0</td>\n    </tr>\n    <tr>\n      <th>2</th>\n      <td>0.0</td>\n      <td>0.0</td>\n      <td>0.0</td>\n      <td>0.0</td>\n      <td>0.0931</td>\n      <td>0.0000</td>\n      <td>0.0000</td>\n      <td>0.0093</td>\n      <td>0.0138</td>\n      <td>0.0006</td>\n      <td>0.0091</td>\n      <td>0.0</td>\n      <td>0</td>\n    </tr>\n    <tr>\n      <th>3</th>\n      <td>0.0</td>\n      <td>0.0</td>\n      <td>0.0</td>\n      <td>0.0</td>\n      <td>0.0000</td>\n      <td>0.0000</td>\n      <td>0.0129</td>\n      <td>0.0060</td>\n      <td>0.0140</td>\n      <td>0.0155</td>\n      <td>0.0179</td>\n      <td>0.0</td>\n      <td>0</td>\n    </tr>\n    <tr>\n      <th>4</th>\n      <td>0.0</td>\n      <td>0.0</td>\n      <td>0.0</td>\n      <td>0.0</td>\n      <td>0.0000</td>\n      <td>0.0000</td>\n      <td>0.0141</td>\n      <td>0.0000</td>\n      <td>0.0093</td>\n      <td>0.0007</td>\n      <td>0.0166</td>\n      <td>0.0</td>\n      <td>0</td>\n    </tr>\n  </tbody>\n</table>\n</div>"
     },
     "execution_count": 4,
     "metadata": {},
     "output_type": "execute_result"
    }
   ],
   "source": [
    "data.dropna(inplace=True)  # Drop null values\n",
    "data.head()"
   ],
   "metadata": {
    "collapsed": false,
    "ExecuteTime": {
     "end_time": "2024-03-08T16:25:58.303869Z",
     "start_time": "2024-03-08T16:25:58.272426Z"
    }
   },
   "id": "3125419b70bd5ff5",
   "execution_count": 4
  },
  {
   "cell_type": "markdown",
   "source": [
    "Prepare X and Y"
   ],
   "metadata": {
    "collapsed": false
   },
   "id": "45599ffa03d080a7"
  },
  {
   "cell_type": "code",
   "outputs": [],
   "source": [
    "X = pd.get_dummies(data)\n",
    "X.drop(['Basin'], inplace=True, axis=1)\n",
    "y = data['Basin']"
   ],
   "metadata": {
    "collapsed": false,
    "ExecuteTime": {
     "end_time": "2024-03-08T16:25:58.327117Z",
     "start_time": "2024-03-08T16:25:58.308552Z"
    }
   },
   "id": "8fa27ab2185a24e9",
   "execution_count": 5
  },
  {
   "cell_type": "code",
   "outputs": [
    {
     "data": {
      "text/plain": "     Bosmina longirostris  Ceriodaphnia sp.  Diaphanosoma brachyurum  \\\n0                  0.0000               0.0                   0.0000   \n1                  0.0000               0.0                   0.0000   \n2                  0.0000               0.0                   0.0000   \n3                  0.0000               0.0                   0.0000   \n4                  0.0000               0.0                   0.0000   \n..                    ...               ...                      ...   \n150                0.0734               0.0                   0.0476   \n151                0.1653               0.0                   0.0000   \n152                0.0256               0.0                   0.0000   \n153                0.0000               0.0                   0.0000   \n154                0.0000               0.0                   0.0112   \n\n     Leptodora kindtii  Acartia longiremis  Acartia tonsa  Eurytemora affinis  \\\n0               0.0000              2.0710         0.9298              0.9251   \n1               0.0000              0.5014         0.0378              0.0000   \n2               0.0000              0.0931         0.0000              0.0000   \n3               0.0000              0.0000         0.0000              0.0129   \n4               0.0000              0.0000         0.0000              0.0141   \n..                 ...                 ...            ...                 ...   \n150             0.0000              0.5052         0.0000              2.6966   \n151             0.0000              0.1243         0.0000              0.0000   \n152             0.0009              0.0584         0.0000              0.0000   \n153             0.0000              0.0000         0.0000              0.0170   \n154             0.0000              0.0000         0.0690              0.0252   \n\n     Cyclops sp.  Nauplii Cyclopoida  Nauplii Calanoida  \\\n0         0.0000              0.0025             0.0257   \n1         0.0000              0.0000             0.0000   \n2         0.0093              0.0138             0.0006   \n3         0.0060              0.0140             0.0155   \n4         0.0000              0.0093             0.0007   \n..           ...                 ...                ...   \n150       0.0000              0.0094             0.0831   \n151       0.8835              0.0512             0.0000   \n152       0.5989              0.0549             0.0000   \n153       0.0187              0.0000             0.0014   \n154       0.0225              0.0065             0.0000   \n\n     Thermocyclops oithonoides  Eurytemora lacustris  \n0                       0.0000                   0.0  \n1                       0.0000                   0.0  \n2                       0.0091                   0.0  \n3                       0.0179                   0.0  \n4                       0.0166                   0.0  \n..                         ...                   ...  \n150                     0.0000                   0.0  \n151                     0.0000                   0.0  \n152                     0.0000                   0.0  \n153                     0.0000                   0.0  \n154                     0.0000                   0.0  \n\n[155 rows x 12 columns]",
      "text/html": "<div>\n<style scoped>\n    .dataframe tbody tr th:only-of-type {\n        vertical-align: middle;\n    }\n\n    .dataframe tbody tr th {\n        vertical-align: top;\n    }\n\n    .dataframe thead th {\n        text-align: right;\n    }\n</style>\n<table border=\"1\" class=\"dataframe\">\n  <thead>\n    <tr style=\"text-align: right;\">\n      <th></th>\n      <th>Bosmina longirostris</th>\n      <th>Ceriodaphnia sp.</th>\n      <th>Diaphanosoma brachyurum</th>\n      <th>Leptodora kindtii</th>\n      <th>Acartia longiremis</th>\n      <th>Acartia tonsa</th>\n      <th>Eurytemora affinis</th>\n      <th>Cyclops sp.</th>\n      <th>Nauplii Cyclopoida</th>\n      <th>Nauplii Calanoida</th>\n      <th>Thermocyclops oithonoides</th>\n      <th>Eurytemora lacustris</th>\n    </tr>\n  </thead>\n  <tbody>\n    <tr>\n      <th>0</th>\n      <td>0.0000</td>\n      <td>0.0</td>\n      <td>0.0000</td>\n      <td>0.0000</td>\n      <td>2.0710</td>\n      <td>0.9298</td>\n      <td>0.9251</td>\n      <td>0.0000</td>\n      <td>0.0025</td>\n      <td>0.0257</td>\n      <td>0.0000</td>\n      <td>0.0</td>\n    </tr>\n    <tr>\n      <th>1</th>\n      <td>0.0000</td>\n      <td>0.0</td>\n      <td>0.0000</td>\n      <td>0.0000</td>\n      <td>0.5014</td>\n      <td>0.0378</td>\n      <td>0.0000</td>\n      <td>0.0000</td>\n      <td>0.0000</td>\n      <td>0.0000</td>\n      <td>0.0000</td>\n      <td>0.0</td>\n    </tr>\n    <tr>\n      <th>2</th>\n      <td>0.0000</td>\n      <td>0.0</td>\n      <td>0.0000</td>\n      <td>0.0000</td>\n      <td>0.0931</td>\n      <td>0.0000</td>\n      <td>0.0000</td>\n      <td>0.0093</td>\n      <td>0.0138</td>\n      <td>0.0006</td>\n      <td>0.0091</td>\n      <td>0.0</td>\n    </tr>\n    <tr>\n      <th>3</th>\n      <td>0.0000</td>\n      <td>0.0</td>\n      <td>0.0000</td>\n      <td>0.0000</td>\n      <td>0.0000</td>\n      <td>0.0000</td>\n      <td>0.0129</td>\n      <td>0.0060</td>\n      <td>0.0140</td>\n      <td>0.0155</td>\n      <td>0.0179</td>\n      <td>0.0</td>\n    </tr>\n    <tr>\n      <th>4</th>\n      <td>0.0000</td>\n      <td>0.0</td>\n      <td>0.0000</td>\n      <td>0.0000</td>\n      <td>0.0000</td>\n      <td>0.0000</td>\n      <td>0.0141</td>\n      <td>0.0000</td>\n      <td>0.0093</td>\n      <td>0.0007</td>\n      <td>0.0166</td>\n      <td>0.0</td>\n    </tr>\n    <tr>\n      <th>...</th>\n      <td>...</td>\n      <td>...</td>\n      <td>...</td>\n      <td>...</td>\n      <td>...</td>\n      <td>...</td>\n      <td>...</td>\n      <td>...</td>\n      <td>...</td>\n      <td>...</td>\n      <td>...</td>\n      <td>...</td>\n    </tr>\n    <tr>\n      <th>150</th>\n      <td>0.0734</td>\n      <td>0.0</td>\n      <td>0.0476</td>\n      <td>0.0000</td>\n      <td>0.5052</td>\n      <td>0.0000</td>\n      <td>2.6966</td>\n      <td>0.0000</td>\n      <td>0.0094</td>\n      <td>0.0831</td>\n      <td>0.0000</td>\n      <td>0.0</td>\n    </tr>\n    <tr>\n      <th>151</th>\n      <td>0.1653</td>\n      <td>0.0</td>\n      <td>0.0000</td>\n      <td>0.0000</td>\n      <td>0.1243</td>\n      <td>0.0000</td>\n      <td>0.0000</td>\n      <td>0.8835</td>\n      <td>0.0512</td>\n      <td>0.0000</td>\n      <td>0.0000</td>\n      <td>0.0</td>\n    </tr>\n    <tr>\n      <th>152</th>\n      <td>0.0256</td>\n      <td>0.0</td>\n      <td>0.0000</td>\n      <td>0.0009</td>\n      <td>0.0584</td>\n      <td>0.0000</td>\n      <td>0.0000</td>\n      <td>0.5989</td>\n      <td>0.0549</td>\n      <td>0.0000</td>\n      <td>0.0000</td>\n      <td>0.0</td>\n    </tr>\n    <tr>\n      <th>153</th>\n      <td>0.0000</td>\n      <td>0.0</td>\n      <td>0.0000</td>\n      <td>0.0000</td>\n      <td>0.0000</td>\n      <td>0.0000</td>\n      <td>0.0170</td>\n      <td>0.0187</td>\n      <td>0.0000</td>\n      <td>0.0014</td>\n      <td>0.0000</td>\n      <td>0.0</td>\n    </tr>\n    <tr>\n      <th>154</th>\n      <td>0.0000</td>\n      <td>0.0</td>\n      <td>0.0112</td>\n      <td>0.0000</td>\n      <td>0.0000</td>\n      <td>0.0690</td>\n      <td>0.0252</td>\n      <td>0.0225</td>\n      <td>0.0065</td>\n      <td>0.0000</td>\n      <td>0.0000</td>\n      <td>0.0</td>\n    </tr>\n  </tbody>\n</table>\n<p>155 rows × 12 columns</p>\n</div>"
     },
     "execution_count": 6,
     "metadata": {},
     "output_type": "execute_result"
    }
   ],
   "source": [
    "X"
   ],
   "metadata": {
    "collapsed": false,
    "ExecuteTime": {
     "end_time": "2024-03-08T16:25:58.384092Z",
     "start_time": "2024-03-08T16:25:58.331864Z"
    }
   },
   "id": "93b2d786c9ed3349",
   "execution_count": 6
  },
  {
   "cell_type": "code",
   "outputs": [
    {
     "data": {
      "text/plain": "0      0\n1      0\n2      0\n3      0\n4      0\n      ..\n150    1\n151    1\n152    1\n153    1\n154    1\nName: Basin, Length: 155, dtype: int64"
     },
     "execution_count": 7,
     "metadata": {},
     "output_type": "execute_result"
    }
   ],
   "source": [
    "y"
   ],
   "metadata": {
    "collapsed": false,
    "ExecuteTime": {
     "end_time": "2024-03-08T16:25:58.402526Z",
     "start_time": "2024-03-08T16:25:58.388285Z"
    }
   },
   "id": "9f4b6ccd775c38a1",
   "execution_count": 7
  },
  {
   "cell_type": "code",
   "outputs": [
    {
     "name": "stdout",
     "output_type": "stream",
     "text": [
      "Shape of X_train: (116, 12)\n",
      "Shape of X_test: (39, 12)\n"
     ]
    }
   ],
   "source": [
    "test_size = 0.25\n",
    "X_train, X_test, y_train, y_test = train_test_split(X, y, test_size=test_size, random_state=16)\n",
    "print(f'Shape of X_train: {X_train.shape}')\n",
    "print(f'Shape of X_test: {X_test.shape}')"
   ],
   "metadata": {
    "collapsed": false,
    "ExecuteTime": {
     "end_time": "2024-03-08T16:25:58.428150Z",
     "start_time": "2024-03-08T16:25:58.410005Z"
    }
   },
   "id": "62028381df488d3e",
   "execution_count": 8
  },
  {
   "cell_type": "code",
   "outputs": [],
   "source": [
    "logreg = LogisticRegression(random_state=16)\n",
    "logreg.fit(X_train, y_train)\n",
    "y_pred = logreg.predict(X_test)"
   ],
   "metadata": {
    "collapsed": false,
    "ExecuteTime": {
     "end_time": "2024-03-08T16:25:58.494625Z",
     "start_time": "2024-03-08T16:25:58.430464Z"
    }
   },
   "id": "692e0ba8a950e698",
   "execution_count": 9
  },
  {
   "cell_type": "code",
   "outputs": [
    {
     "data": {
      "text/plain": "array([[23,  0],\n       [10,  6]], dtype=int64)"
     },
     "execution_count": 10,
     "metadata": {},
     "output_type": "execute_result"
    }
   ],
   "source": [
    "cnf_matrix = metrics.confusion_matrix(y_test, y_pred)\n",
    "cnf_matrix"
   ],
   "metadata": {
    "collapsed": false,
    "ExecuteTime": {
     "end_time": "2024-03-08T16:25:58.530565Z",
     "start_time": "2024-03-08T16:25:58.497984Z"
    }
   },
   "id": "776f82db75b900a0",
   "execution_count": 10
  },
  {
   "cell_type": "markdown",
   "source": [
    "Visualization"
   ],
   "metadata": {
    "collapsed": false
   },
   "id": "40eb6170847088a3"
  },
  {
   "cell_type": "code",
   "outputs": [
    {
     "data": {
      "text/plain": "Text(0.5, 427.9555555555555, 'Predicted label')"
     },
     "execution_count": 11,
     "metadata": {},
     "output_type": "execute_result"
    },
    {
     "data": {
      "text/plain": "<Figure size 640x480 with 2 Axes>",
      "image/png": "[encoded data removed]"
     },
     "metadata": {},
     "output_type": "display_data"
    }
   ],
   "source": [
    "class_names = [0, 1]\n",
    "fig, ax = plt.subplots()\n",
    "tick_marks = np.arange(len(class_names))\n",
    "plt.xticks(tick_marks, class_names)\n",
    "plt.yticks(tick_marks, class_names)\n",
    "\n",
    "# Create heatmap\n",
    "\n",
    "sns.heatmap(pd.DataFrame(cnf_matrix), annot=True, cmap='YlGnBu', fmt='g')\n",
    "ax.xaxis.set_label_position('top')\n",
    "plt.tight_layout()\n",
    "plt.title('Confusion Matrix', y=1.1)\n",
    "plt.ylabel('Actual label')\n",
    "plt.xlabel('Predicted label')"
   ],
   "metadata": {
    "collapsed": false,
    "ExecuteTime": {
     "end_time": "2024-03-08T16:25:59.188663Z",
     "start_time": "2024-03-08T16:25:58.538634Z"
    }
   },
   "id": "ad339116ab97cdb",
   "execution_count": 11
  },
  {
   "cell_type": "markdown",
   "source": [
    "Model Evaluation"
   ],
   "metadata": {
    "collapsed": false
   },
   "id": "e2c9d421ab45cb32"
  },
  {
   "cell_type": "code",
   "outputs": [
    {
     "name": "stdout",
     "output_type": "stream",
     "text": [
      "              precision    recall  f1-score   support\n",
      "\n",
      "   Sea water       0.70      1.00      0.82        23\n",
      "  Land water       1.00      0.38      0.55        16\n",
      "\n",
      "    accuracy                           0.74        39\n",
      "   macro avg       0.85      0.69      0.68        39\n",
      "weighted avg       0.82      0.74      0.71        39\n"
     ]
    }
   ],
   "source": [
    "target_names = ['Sea water', 'Land water']\n",
    "print(classification_report(y_test, y_pred, target_names=target_names))"
   ],
   "metadata": {
    "collapsed": false,
    "ExecuteTime": {
     "end_time": "2024-03-08T16:25:59.214019Z",
     "start_time": "2024-03-08T16:25:59.191396Z"
    }
   },
   "id": "ecd7dbf8a5202864",
   "execution_count": 12
  },
  {
   "cell_type": "code",
   "outputs": [
    {
     "data": {
      "text/plain": "<Figure size 640x480 with 1 Axes>",
      "image/png": "[encoded data removed]"
     },
     "metadata": {},
     "output_type": "display_data"
    }
   ],
   "source": [
    "y_pred_proba = logreg.predict_proba(X_test)[::,1]\n",
    "fpr, tpr, _ = metrics.roc_curve(y_test, y_pred_proba)\n",
    "auc = metrics.roc_auc_score(y_test, y_pred_proba)\n",
    "plt.plot(fpr, tpr, label='data 1, auc=' + str(auc))\n",
    "plt.legend(loc=4)\n",
    "plt.show()"
   ],
   "metadata": {
    "collapsed": false,
    "ExecuteTime": {
     "end_time": "2024-03-08T16:25:59.674133Z",
     "start_time": "2024-03-08T16:25:59.217494Z"
    }
   },
   "id": "3671b3dfda03e21a",
   "execution_count": 13
  }
 ],
 "metadata": {
  "kernelspec": {
   "display_name": "Python 3",
   "language": "python",
   "name": "python3"
  },
  "language_info": {
   "codemirror_mode": {
    "name": "ipython",
    "version": 2
   },
   "file_extension": ".py",
   "mimetype": "text/x-python",
   "name": "python",
   "nbconvert_exporter": "python",
   "pygments_lexer": "ipython2",
   "version": "2.7.6"
  }
 },
 "nbformat": 4,
 "nbformat_minor": 5
}
