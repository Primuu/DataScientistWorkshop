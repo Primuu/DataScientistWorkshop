{
 "cells": [
  {
   "cell_type": "markdown",
   "source": [
    "Data Scientist Workshop - ex.2.2 - Adam Trentowski, 162602"
   ],
   "metadata": {
    "collapsed": false
   },
   "id": "f297579bf88a933e"
  },
  {
   "cell_type": "code",
   "outputs": [],
   "source": [
    "import pandas as pd\n",
    "import numpy as np\n",
    "import matplotlib.pyplot as plt\n",
    "import seaborn as sns\n",
    "from sklearn.model_selection import train_test_split\n",
    "from sklearn.linear_model import LogisticRegression\n",
    "from sklearn import metrics\n",
    "from sklearn.metrics import classification_report\n",
    "%matplotlib inline"
   ],
   "metadata": {
    "collapsed": false,
    "ExecuteTime": {
     "end_time": "2024-03-06T17:20:21.730465Z",
     "start_time": "2024-03-06T17:20:21.723856Z"
    }
   },
   "id": "f90fe8bd536d2841",
   "execution_count": 13
  },
  {
   "cell_type": "code",
   "outputs": [],
   "source": [
    "data = pd.read_csv('D:/Projekty/DataScientistWorkshop/lab_02/files/VLagun_Rotif_Basins.csv')"
   ],
   "metadata": {
    "collapsed": false,
    "ExecuteTime": {
     "end_time": "2024-03-06T17:20:21.873667Z",
     "start_time": "2024-03-06T17:20:21.866392Z"
    }
   },
   "id": "59d0059c7a266841",
   "execution_count": 14
  },
  {
   "cell_type": "code",
   "outputs": [
    {
     "data": {
      "text/plain": "   Anureopsis fissa  Ascomorpha saltans  Asplanchna priodonta  \\\n0            0.0000              0.0068                0.0000   \n1            0.0003              0.0000                0.0556   \n2            0.0001              0.0000                0.0014   \n3            0.0001              0.0000                0.0000   \n4            0.0001              0.0000                0.0000   \n\n   Brachionus angularis  Brachionus calyciflorus calyciflorus  \\\n0                0.0000                                0.0000   \n1                0.0000                                0.0179   \n2                0.0000                                0.0000   \n3                0.0000                                0.0000   \n4                0.0003                                0.0000   \n\n   Brachionus calyciflorus f.amphiceros  Brachionus calyciflorus spinosus  \\\n0                                   0.0                               0.0   \n1                                   0.0                               0.0   \n2                                   0.0                               0.0   \n3                                   0.0                               0.0   \n4                                   0.0                               0.0   \n\n   Brachionus urceolaris  Brachionus calyciflorus f.anureiformis  \\\n0                    0.0                                     0.0   \n1                    0.0                                     0.0   \n2                    0.0                                     0.0   \n3                    0.0                                     0.0   \n4                    0.0                                     0.0   \n\n   Filinia longiseta  Keratella cochlearis cochlearis  \\\n0             1.3152                           0.8920   \n1             0.0769                           0.0640   \n2             0.0466                           0.0120   \n3             0.0313                           0.0079   \n4             0.0491                           0.0143   \n\n   Keratella cochlearis f.tecta  Keratella quadrata  Polyarthra vulgaris  \\\n0                        0.2714              0.0000               0.0313   \n1                        0.0464              0.0000               0.0111   \n2                        0.0044              0.0000               0.0000   \n3                        0.0040              0.0000               0.0000   \n4                        0.0019              0.0026               0.0000   \n\n   Polyarthra platyptera  Pompholyx sp.  Synchaeta sp.  Trichocerca pusilla  \\\n0                    0.0         0.0000         0.0000               0.0045   \n1                    0.0         0.0000         0.0437               0.0041   \n2                    0.0         0.0001         0.0000               0.0000   \n3                    0.0         0.0000         0.0000               0.0000   \n4                    0.0         0.0001         0.0000               0.0000   \n\n   Trichocerca similis  Basin  \n0               0.0009      0  \n1               0.0020      0  \n2               0.0000      0  \n3               0.0000      0  \n4               0.0000      0  ",
      "text/html": "<div>\n<style scoped>\n    .dataframe tbody tr th:only-of-type {\n        vertical-align: middle;\n    }\n\n    .dataframe tbody tr th {\n        vertical-align: top;\n    }\n\n    .dataframe thead th {\n        text-align: right;\n    }\n</style>\n<table border=\"1\" class=\"dataframe\">\n  <thead>\n    <tr style=\"text-align: right;\">\n      <th></th>\n      <th>Anureopsis fissa</th>\n      <th>Ascomorpha saltans</th>\n      <th>Asplanchna priodonta</th>\n      <th>Brachionus angularis</th>\n      <th>Brachionus calyciflorus calyciflorus</th>\n      <th>Brachionus calyciflorus f.amphiceros</th>\n      <th>Brachionus calyciflorus spinosus</th>\n      <th>Brachionus urceolaris</th>\n      <th>Brachionus calyciflorus f.anureiformis</th>\n      <th>Filinia longiseta</th>\n      <th>Keratella cochlearis cochlearis</th>\n      <th>Keratella cochlearis f.tecta</th>\n      <th>Keratella quadrata</th>\n      <th>Polyarthra vulgaris</th>\n      <th>Polyarthra platyptera</th>\n      <th>Pompholyx sp.</th>\n      <th>Synchaeta sp.</th>\n      <th>Trichocerca pusilla</th>\n      <th>Trichocerca similis</th>\n      <th>Basin</th>\n    </tr>\n  </thead>\n  <tbody>\n    <tr>\n      <th>0</th>\n      <td>0.0000</td>\n      <td>0.0068</td>\n      <td>0.0000</td>\n      <td>0.0000</td>\n      <td>0.0000</td>\n      <td>0.0</td>\n      <td>0.0</td>\n      <td>0.0</td>\n      <td>0.0</td>\n      <td>1.3152</td>\n      <td>0.8920</td>\n      <td>0.2714</td>\n      <td>0.0000</td>\n      <td>0.0313</td>\n      <td>0.0</td>\n      <td>0.0000</td>\n      <td>0.0000</td>\n      <td>0.0045</td>\n      <td>0.0009</td>\n      <td>0</td>\n    </tr>\n    <tr>\n      <th>1</th>\n      <td>0.0003</td>\n      <td>0.0000</td>\n      <td>0.0556</td>\n      <td>0.0000</td>\n      <td>0.0179</td>\n      <td>0.0</td>\n      <td>0.0</td>\n      <td>0.0</td>\n      <td>0.0</td>\n      <td>0.0769</td>\n      <td>0.0640</td>\n      <td>0.0464</td>\n      <td>0.0000</td>\n      <td>0.0111</td>\n      <td>0.0</td>\n      <td>0.0000</td>\n      <td>0.0437</td>\n      <td>0.0041</td>\n      <td>0.0020</td>\n      <td>0</td>\n    </tr>\n    <tr>\n      <th>2</th>\n      <td>0.0001</td>\n      <td>0.0000</td>\n      <td>0.0014</td>\n      <td>0.0000</td>\n      <td>0.0000</td>\n      <td>0.0</td>\n      <td>0.0</td>\n      <td>0.0</td>\n      <td>0.0</td>\n      <td>0.0466</td>\n      <td>0.0120</td>\n      <td>0.0044</td>\n      <td>0.0000</td>\n      <td>0.0000</td>\n      <td>0.0</td>\n      <td>0.0001</td>\n      <td>0.0000</td>\n      <td>0.0000</td>\n      <td>0.0000</td>\n      <td>0</td>\n    </tr>\n    <tr>\n      <th>3</th>\n      <td>0.0001</td>\n      <td>0.0000</td>\n      <td>0.0000</td>\n      <td>0.0000</td>\n      <td>0.0000</td>\n      <td>0.0</td>\n      <td>0.0</td>\n      <td>0.0</td>\n      <td>0.0</td>\n      <td>0.0313</td>\n      <td>0.0079</td>\n      <td>0.0040</td>\n      <td>0.0000</td>\n      <td>0.0000</td>\n      <td>0.0</td>\n      <td>0.0000</td>\n      <td>0.0000</td>\n      <td>0.0000</td>\n      <td>0.0000</td>\n      <td>0</td>\n    </tr>\n    <tr>\n      <th>4</th>\n      <td>0.0001</td>\n      <td>0.0000</td>\n      <td>0.0000</td>\n      <td>0.0003</td>\n      <td>0.0000</td>\n      <td>0.0</td>\n      <td>0.0</td>\n      <td>0.0</td>\n      <td>0.0</td>\n      <td>0.0491</td>\n      <td>0.0143</td>\n      <td>0.0019</td>\n      <td>0.0026</td>\n      <td>0.0000</td>\n      <td>0.0</td>\n      <td>0.0001</td>\n      <td>0.0000</td>\n      <td>0.0000</td>\n      <td>0.0000</td>\n      <td>0</td>\n    </tr>\n  </tbody>\n</table>\n</div>"
     },
     "execution_count": 15,
     "metadata": {},
     "output_type": "execute_result"
    }
   ],
   "source": [
    "data.head()"
   ],
   "metadata": {
    "collapsed": false,
    "ExecuteTime": {
     "end_time": "2024-03-06T17:20:21.896589Z",
     "start_time": "2024-03-06T17:20:21.875988Z"
    }
   },
   "id": "755af1faa7eaa66c",
   "execution_count": 15
  },
  {
   "cell_type": "code",
   "outputs": [
    {
     "data": {
      "text/plain": "   Anureopsis fissa  Ascomorpha saltans  Asplanchna priodonta  \\\n0            0.0000              0.0068                0.0000   \n1            0.0003              0.0000                0.0556   \n2            0.0001              0.0000                0.0014   \n3            0.0001              0.0000                0.0000   \n4            0.0001              0.0000                0.0000   \n\n   Brachionus angularis  Brachionus calyciflorus calyciflorus  \\\n0                0.0000                                0.0000   \n1                0.0000                                0.0179   \n2                0.0000                                0.0000   \n3                0.0000                                0.0000   \n4                0.0003                                0.0000   \n\n   Brachionus calyciflorus f.amphiceros  Brachionus calyciflorus spinosus  \\\n0                                   0.0                               0.0   \n1                                   0.0                               0.0   \n2                                   0.0                               0.0   \n3                                   0.0                               0.0   \n4                                   0.0                               0.0   \n\n   Brachionus urceolaris  Brachionus calyciflorus f.anureiformis  \\\n0                    0.0                                     0.0   \n1                    0.0                                     0.0   \n2                    0.0                                     0.0   \n3                    0.0                                     0.0   \n4                    0.0                                     0.0   \n\n   Filinia longiseta  Keratella cochlearis cochlearis  \\\n0             1.3152                           0.8920   \n1             0.0769                           0.0640   \n2             0.0466                           0.0120   \n3             0.0313                           0.0079   \n4             0.0491                           0.0143   \n\n   Keratella cochlearis f.tecta  Keratella quadrata  Polyarthra vulgaris  \\\n0                        0.2714              0.0000               0.0313   \n1                        0.0464              0.0000               0.0111   \n2                        0.0044              0.0000               0.0000   \n3                        0.0040              0.0000               0.0000   \n4                        0.0019              0.0026               0.0000   \n\n   Polyarthra platyptera  Pompholyx sp.  Synchaeta sp.  Trichocerca pusilla  \\\n0                    0.0         0.0000         0.0000               0.0045   \n1                    0.0         0.0000         0.0437               0.0041   \n2                    0.0         0.0001         0.0000               0.0000   \n3                    0.0         0.0000         0.0000               0.0000   \n4                    0.0         0.0001         0.0000               0.0000   \n\n   Trichocerca similis  Basin  \n0               0.0009      0  \n1               0.0020      0  \n2               0.0000      0  \n3               0.0000      0  \n4               0.0000      0  ",
      "text/html": "<div>\n<style scoped>\n    .dataframe tbody tr th:only-of-type {\n        vertical-align: middle;\n    }\n\n    .dataframe tbody tr th {\n        vertical-align: top;\n    }\n\n    .dataframe thead th {\n        text-align: right;\n    }\n</style>\n<table border=\"1\" class=\"dataframe\">\n  <thead>\n    <tr style=\"text-align: right;\">\n      <th></th>\n      <th>Anureopsis fissa</th>\n      <th>Ascomorpha saltans</th>\n      <th>Asplanchna priodonta</th>\n      <th>Brachionus angularis</th>\n      <th>Brachionus calyciflorus calyciflorus</th>\n      <th>Brachionus calyciflorus f.amphiceros</th>\n      <th>Brachionus calyciflorus spinosus</th>\n      <th>Brachionus urceolaris</th>\n      <th>Brachionus calyciflorus f.anureiformis</th>\n      <th>Filinia longiseta</th>\n      <th>Keratella cochlearis cochlearis</th>\n      <th>Keratella cochlearis f.tecta</th>\n      <th>Keratella quadrata</th>\n      <th>Polyarthra vulgaris</th>\n      <th>Polyarthra platyptera</th>\n      <th>Pompholyx sp.</th>\n      <th>Synchaeta sp.</th>\n      <th>Trichocerca pusilla</th>\n      <th>Trichocerca similis</th>\n      <th>Basin</th>\n    </tr>\n  </thead>\n  <tbody>\n    <tr>\n      <th>0</th>\n      <td>0.0000</td>\n      <td>0.0068</td>\n      <td>0.0000</td>\n      <td>0.0000</td>\n      <td>0.0000</td>\n      <td>0.0</td>\n      <td>0.0</td>\n      <td>0.0</td>\n      <td>0.0</td>\n      <td>1.3152</td>\n      <td>0.8920</td>\n      <td>0.2714</td>\n      <td>0.0000</td>\n      <td>0.0313</td>\n      <td>0.0</td>\n      <td>0.0000</td>\n      <td>0.0000</td>\n      <td>0.0045</td>\n      <td>0.0009</td>\n      <td>0</td>\n    </tr>\n    <tr>\n      <th>1</th>\n      <td>0.0003</td>\n      <td>0.0000</td>\n      <td>0.0556</td>\n      <td>0.0000</td>\n      <td>0.0179</td>\n      <td>0.0</td>\n      <td>0.0</td>\n      <td>0.0</td>\n      <td>0.0</td>\n      <td>0.0769</td>\n      <td>0.0640</td>\n      <td>0.0464</td>\n      <td>0.0000</td>\n      <td>0.0111</td>\n      <td>0.0</td>\n      <td>0.0000</td>\n      <td>0.0437</td>\n      <td>0.0041</td>\n      <td>0.0020</td>\n      <td>0</td>\n    </tr>\n    <tr>\n      <th>2</th>\n      <td>0.0001</td>\n      <td>0.0000</td>\n      <td>0.0014</td>\n      <td>0.0000</td>\n      <td>0.0000</td>\n      <td>0.0</td>\n      <td>0.0</td>\n      <td>0.0</td>\n      <td>0.0</td>\n      <td>0.0466</td>\n      <td>0.0120</td>\n      <td>0.0044</td>\n      <td>0.0000</td>\n      <td>0.0000</td>\n      <td>0.0</td>\n      <td>0.0001</td>\n      <td>0.0000</td>\n      <td>0.0000</td>\n      <td>0.0000</td>\n      <td>0</td>\n    </tr>\n    <tr>\n      <th>3</th>\n      <td>0.0001</td>\n      <td>0.0000</td>\n      <td>0.0000</td>\n      <td>0.0000</td>\n      <td>0.0000</td>\n      <td>0.0</td>\n      <td>0.0</td>\n      <td>0.0</td>\n      <td>0.0</td>\n      <td>0.0313</td>\n      <td>0.0079</td>\n      <td>0.0040</td>\n      <td>0.0000</td>\n      <td>0.0000</td>\n      <td>0.0</td>\n      <td>0.0000</td>\n      <td>0.0000</td>\n      <td>0.0000</td>\n      <td>0.0000</td>\n      <td>0</td>\n    </tr>\n    <tr>\n      <th>4</th>\n      <td>0.0001</td>\n      <td>0.0000</td>\n      <td>0.0000</td>\n      <td>0.0003</td>\n      <td>0.0000</td>\n      <td>0.0</td>\n      <td>0.0</td>\n      <td>0.0</td>\n      <td>0.0</td>\n      <td>0.0491</td>\n      <td>0.0143</td>\n      <td>0.0019</td>\n      <td>0.0026</td>\n      <td>0.0000</td>\n      <td>0.0</td>\n      <td>0.0001</td>\n      <td>0.0000</td>\n      <td>0.0000</td>\n      <td>0.0000</td>\n      <td>0</td>\n    </tr>\n  </tbody>\n</table>\n</div>"
     },
     "execution_count": 16,
     "metadata": {},
     "output_type": "execute_result"
    }
   ],
   "source": [
    "data.dropna(inplace=True)  # Drop null values\n",
    "data.head()"
   ],
   "metadata": {
    "collapsed": false,
    "ExecuteTime": {
     "end_time": "2024-03-06T17:20:21.940060Z",
     "start_time": "2024-03-06T17:20:21.916312Z"
    }
   },
   "id": "3125419b70bd5ff5",
   "execution_count": 16
  },
  {
   "cell_type": "markdown",
   "source": [
    "Prepare X and Y"
   ],
   "metadata": {
    "collapsed": false
   },
   "id": "45599ffa03d080a7"
  },
  {
   "cell_type": "code",
   "outputs": [],
   "source": [
    "X = pd.get_dummies(data)\n",
    "X.drop(['Basin'], inplace=True, axis=1)\n",
    "y = data['Basin']"
   ],
   "metadata": {
    "collapsed": false,
    "ExecuteTime": {
     "end_time": "2024-03-06T17:20:21.972759Z",
     "start_time": "2024-03-06T17:20:21.965130Z"
    }
   },
   "id": "8fa27ab2185a24e9",
   "execution_count": 17
  },
  {
   "cell_type": "code",
   "outputs": [
    {
     "data": {
      "text/plain": "     Anureopsis fissa  Ascomorpha saltans  Asplanchna priodonta  \\\n0              0.0000              0.0068                0.0000   \n1              0.0003              0.0000                0.0556   \n2              0.0001              0.0000                0.0014   \n3              0.0001              0.0000                0.0000   \n4              0.0001              0.0000                0.0000   \n..                ...                 ...                   ...   \n150            0.0002              0.0000                0.0530   \n151            0.0000              0.0000                0.1325   \n152            0.0001              0.0000                0.0833   \n153            0.0000              0.0000                0.0007   \n154            0.0000              0.0000                0.0000   \n\n     Brachionus angularis  Brachionus calyciflorus calyciflorus  \\\n0                  0.0000                                0.0000   \n1                  0.0000                                0.0179   \n2                  0.0000                                0.0000   \n3                  0.0000                                0.0000   \n4                  0.0003                                0.0000   \n..                    ...                                   ...   \n150                0.0576                                0.0000   \n151                0.1083                                0.0306   \n152                0.0809                                0.0038   \n153                0.0031                                0.0127   \n154                0.0055                                0.0000   \n\n     Brachionus calyciflorus f.amphiceros  Brachionus calyciflorus spinosus  \\\n0                                  0.0000                               0.0   \n1                                  0.0000                               0.0   \n2                                  0.0000                               0.0   \n3                                  0.0000                               0.0   \n4                                  0.0000                               0.0   \n..                                    ...                               ...   \n150                                0.0329                               0.0   \n151                                0.2261                               0.0   \n152                                0.1058                               0.0   \n153                                0.0000                               0.0   \n154                                0.0000                               0.0   \n\n     Brachionus urceolaris  Brachionus calyciflorus f.anureiformis  \\\n0                      0.0                                  0.0000   \n1                      0.0                                  0.0000   \n2                      0.0                                  0.0000   \n3                      0.0                                  0.0000   \n4                      0.0                                  0.0000   \n..                     ...                                     ...   \n150                    0.0                                  0.0000   \n151                    0.0                                  0.0388   \n152                    0.0                                  0.0324   \n153                    0.0                                  0.0000   \n154                    0.0                                  0.0000   \n\n     Filinia longiseta  Keratella cochlearis cochlearis  \\\n0               1.3152                           0.8920   \n1               0.0769                           0.0640   \n2               0.0466                           0.0120   \n3               0.0313                           0.0079   \n4               0.0491                           0.0143   \n..                 ...                              ...   \n150             0.1651                           0.1410   \n151             0.0550                           0.0569   \n152             0.2819                           0.0941   \n153             0.0127                           0.0188   \n154             0.0098                           0.0087   \n\n     Keratella cochlearis f.tecta  Keratella quadrata  Polyarthra vulgaris  \\\n0                          0.2714              0.0000               0.0313   \n1                          0.0464              0.0000               0.0111   \n2                          0.0044              0.0000               0.0000   \n3                          0.0040              0.0000               0.0000   \n4                          0.0019              0.0026               0.0000   \n..                            ...                 ...                  ...   \n150                        0.0010              0.0049               0.0000   \n151                        0.0016              0.0066               0.0000   \n152                        0.0016              0.0242               0.0000   \n153                        0.0033              0.0018               0.0000   \n154                        0.0097              0.0000               0.0000   \n\n     Polyarthra platyptera  Pompholyx sp.  Synchaeta sp.  Trichocerca pusilla  \\\n0                   0.0000         0.0000         0.0000               0.0045   \n1                   0.0000         0.0000         0.0437               0.0041   \n2                   0.0000         0.0001         0.0000               0.0000   \n3                   0.0000         0.0000         0.0000               0.0000   \n4                   0.0000         0.0001         0.0000               0.0000   \n..                     ...            ...            ...                  ...   \n150                 0.0007         0.0060         0.0045               0.0003   \n151                 0.0000         0.0033         0.0241               0.0002   \n152                 0.0000         0.0067         0.0318               0.0004   \n153                 0.0000         0.0000         0.0000               0.0000   \n154                 0.0000         0.0000         0.0000               0.0000   \n\n     Trichocerca similis  \n0                 0.0009  \n1                 0.0020  \n2                 0.0000  \n3                 0.0000  \n4                 0.0000  \n..                   ...  \n150               0.0010  \n151               0.0001  \n152               0.0009  \n153               0.0000  \n154               0.0000  \n\n[155 rows x 19 columns]",
      "text/html": "<div>\n<style scoped>\n    .dataframe tbody tr th:only-of-type {\n        vertical-align: middle;\n    }\n\n    .dataframe tbody tr th {\n        vertical-align: top;\n    }\n\n    .dataframe thead th {\n        text-align: right;\n    }\n</style>\n<table border=\"1\" class=\"dataframe\">\n  <thead>\n    <tr style=\"text-align: right;\">\n      <th></th>\n      <th>Anureopsis fissa</th>\n      <th>Ascomorpha saltans</th>\n      <th>Asplanchna priodonta</th>\n      <th>Brachionus angularis</th>\n      <th>Brachionus calyciflorus calyciflorus</th>\n      <th>Brachionus calyciflorus f.amphiceros</th>\n      <th>Brachionus calyciflorus spinosus</th>\n      <th>Brachionus urceolaris</th>\n      <th>Brachionus calyciflorus f.anureiformis</th>\n      <th>Filinia longiseta</th>\n      <th>Keratella cochlearis cochlearis</th>\n      <th>Keratella cochlearis f.tecta</th>\n      <th>Keratella quadrata</th>\n      <th>Polyarthra vulgaris</th>\n      <th>Polyarthra platyptera</th>\n      <th>Pompholyx sp.</th>\n      <th>Synchaeta sp.</th>\n      <th>Trichocerca pusilla</th>\n      <th>Trichocerca similis</th>\n    </tr>\n  </thead>\n  <tbody>\n    <tr>\n      <th>0</th>\n      <td>0.0000</td>\n      <td>0.0068</td>\n      <td>0.0000</td>\n      <td>0.0000</td>\n      <td>0.0000</td>\n      <td>0.0000</td>\n      <td>0.0</td>\n      <td>0.0</td>\n      <td>0.0000</td>\n      <td>1.3152</td>\n      <td>0.8920</td>\n      <td>0.2714</td>\n      <td>0.0000</td>\n      <td>0.0313</td>\n      <td>0.0000</td>\n      <td>0.0000</td>\n      <td>0.0000</td>\n      <td>0.0045</td>\n      <td>0.0009</td>\n    </tr>\n    <tr>\n      <th>1</th>\n      <td>0.0003</td>\n      <td>0.0000</td>\n      <td>0.0556</td>\n      <td>0.0000</td>\n      <td>0.0179</td>\n      <td>0.0000</td>\n      <td>0.0</td>\n      <td>0.0</td>\n      <td>0.0000</td>\n      <td>0.0769</td>\n      <td>0.0640</td>\n      <td>0.0464</td>\n      <td>0.0000</td>\n      <td>0.0111</td>\n      <td>0.0000</td>\n      <td>0.0000</td>\n      <td>0.0437</td>\n      <td>0.0041</td>\n      <td>0.0020</td>\n    </tr>\n    <tr>\n      <th>2</th>\n      <td>0.0001</td>\n      <td>0.0000</td>\n      <td>0.0014</td>\n      <td>0.0000</td>\n      <td>0.0000</td>\n      <td>0.0000</td>\n      <td>0.0</td>\n      <td>0.0</td>\n      <td>0.0000</td>\n      <td>0.0466</td>\n      <td>0.0120</td>\n      <td>0.0044</td>\n      <td>0.0000</td>\n      <td>0.0000</td>\n      <td>0.0000</td>\n      <td>0.0001</td>\n      <td>0.0000</td>\n      <td>0.0000</td>\n      <td>0.0000</td>\n    </tr>\n    <tr>\n      <th>3</th>\n      <td>0.0001</td>\n      <td>0.0000</td>\n      <td>0.0000</td>\n      <td>0.0000</td>\n      <td>0.0000</td>\n      <td>0.0000</td>\n      <td>0.0</td>\n      <td>0.0</td>\n      <td>0.0000</td>\n      <td>0.0313</td>\n      <td>0.0079</td>\n      <td>0.0040</td>\n      <td>0.0000</td>\n      <td>0.0000</td>\n      <td>0.0000</td>\n      <td>0.0000</td>\n      <td>0.0000</td>\n      <td>0.0000</td>\n      <td>0.0000</td>\n    </tr>\n    <tr>\n      <th>4</th>\n      <td>0.0001</td>\n      <td>0.0000</td>\n      <td>0.0000</td>\n      <td>0.0003</td>\n      <td>0.0000</td>\n      <td>0.0000</td>\n      <td>0.0</td>\n      <td>0.0</td>\n      <td>0.0000</td>\n      <td>0.0491</td>\n      <td>0.0143</td>\n      <td>0.0019</td>\n      <td>0.0026</td>\n      <td>0.0000</td>\n      <td>0.0000</td>\n      <td>0.0001</td>\n      <td>0.0000</td>\n      <td>0.0000</td>\n      <td>0.0000</td>\n    </tr>\n    <tr>\n      <th>...</th>\n      <td>...</td>\n      <td>...</td>\n      <td>...</td>\n      <td>...</td>\n      <td>...</td>\n      <td>...</td>\n      <td>...</td>\n      <td>...</td>\n      <td>...</td>\n      <td>...</td>\n      <td>...</td>\n      <td>...</td>\n      <td>...</td>\n      <td>...</td>\n      <td>...</td>\n      <td>...</td>\n      <td>...</td>\n      <td>...</td>\n      <td>...</td>\n    </tr>\n    <tr>\n      <th>150</th>\n      <td>0.0002</td>\n      <td>0.0000</td>\n      <td>0.0530</td>\n      <td>0.0576</td>\n      <td>0.0000</td>\n      <td>0.0329</td>\n      <td>0.0</td>\n      <td>0.0</td>\n      <td>0.0000</td>\n      <td>0.1651</td>\n      <td>0.1410</td>\n      <td>0.0010</td>\n      <td>0.0049</td>\n      <td>0.0000</td>\n      <td>0.0007</td>\n      <td>0.0060</td>\n      <td>0.0045</td>\n      <td>0.0003</td>\n      <td>0.0010</td>\n    </tr>\n    <tr>\n      <th>151</th>\n      <td>0.0000</td>\n      <td>0.0000</td>\n      <td>0.1325</td>\n      <td>0.1083</td>\n      <td>0.0306</td>\n      <td>0.2261</td>\n      <td>0.0</td>\n      <td>0.0</td>\n      <td>0.0388</td>\n      <td>0.0550</td>\n      <td>0.0569</td>\n      <td>0.0016</td>\n      <td>0.0066</td>\n      <td>0.0000</td>\n      <td>0.0000</td>\n      <td>0.0033</td>\n      <td>0.0241</td>\n      <td>0.0002</td>\n      <td>0.0001</td>\n    </tr>\n    <tr>\n      <th>152</th>\n      <td>0.0001</td>\n      <td>0.0000</td>\n      <td>0.0833</td>\n      <td>0.0809</td>\n      <td>0.0038</td>\n      <td>0.1058</td>\n      <td>0.0</td>\n      <td>0.0</td>\n      <td>0.0324</td>\n      <td>0.2819</td>\n      <td>0.0941</td>\n      <td>0.0016</td>\n      <td>0.0242</td>\n      <td>0.0000</td>\n      <td>0.0000</td>\n      <td>0.0067</td>\n      <td>0.0318</td>\n      <td>0.0004</td>\n      <td>0.0009</td>\n    </tr>\n    <tr>\n      <th>153</th>\n      <td>0.0000</td>\n      <td>0.0000</td>\n      <td>0.0007</td>\n      <td>0.0031</td>\n      <td>0.0127</td>\n      <td>0.0000</td>\n      <td>0.0</td>\n      <td>0.0</td>\n      <td>0.0000</td>\n      <td>0.0127</td>\n      <td>0.0188</td>\n      <td>0.0033</td>\n      <td>0.0018</td>\n      <td>0.0000</td>\n      <td>0.0000</td>\n      <td>0.0000</td>\n      <td>0.0000</td>\n      <td>0.0000</td>\n      <td>0.0000</td>\n    </tr>\n    <tr>\n      <th>154</th>\n      <td>0.0000</td>\n      <td>0.0000</td>\n      <td>0.0000</td>\n      <td>0.0055</td>\n      <td>0.0000</td>\n      <td>0.0000</td>\n      <td>0.0</td>\n      <td>0.0</td>\n      <td>0.0000</td>\n      <td>0.0098</td>\n      <td>0.0087</td>\n      <td>0.0097</td>\n      <td>0.0000</td>\n      <td>0.0000</td>\n      <td>0.0000</td>\n      <td>0.0000</td>\n      <td>0.0000</td>\n      <td>0.0000</td>\n      <td>0.0000</td>\n    </tr>\n  </tbody>\n</table>\n<p>155 rows × 19 columns</p>\n</div>"
     },
     "execution_count": 18,
     "metadata": {},
     "output_type": "execute_result"
    }
   ],
   "source": [
    "X"
   ],
   "metadata": {
    "collapsed": false,
    "ExecuteTime": {
     "end_time": "2024-03-06T17:20:22.024406Z",
     "start_time": "2024-03-06T17:20:21.997788Z"
    }
   },
   "id": "93b2d786c9ed3349",
   "execution_count": 18
  },
  {
   "cell_type": "code",
   "outputs": [
    {
     "data": {
      "text/plain": "0      0\n1      0\n2      0\n3      0\n4      0\n      ..\n150    1\n151    1\n152    1\n153    1\n154    1\nName: Basin, Length: 155, dtype: int64"
     },
     "execution_count": 19,
     "metadata": {},
     "output_type": "execute_result"
    }
   ],
   "source": [
    "y"
   ],
   "metadata": {
    "collapsed": false,
    "ExecuteTime": {
     "end_time": "2024-03-06T17:20:22.052409Z",
     "start_time": "2024-03-06T17:20:22.046045Z"
    }
   },
   "id": "9f4b6ccd775c38a1",
   "execution_count": 19
  },
  {
   "cell_type": "code",
   "outputs": [
    {
     "name": "stdout",
     "output_type": "stream",
     "text": [
      "Shape of X_train: (116, 19)\n",
      "Shape of X_test: (39, 19)\n"
     ]
    }
   ],
   "source": [
    "test_size = 0.25\n",
    "X_train, X_test, y_train, y_test = train_test_split(X, y, test_size=test_size, random_state=16)\n",
    "print(f'Shape of X_train: {X_train.shape}')\n",
    "print(f'Shape of X_test: {X_test.shape}')"
   ],
   "metadata": {
    "collapsed": false,
    "ExecuteTime": {
     "end_time": "2024-03-06T17:20:22.153444Z",
     "start_time": "2024-03-06T17:20:22.147186Z"
    }
   },
   "id": "62028381df488d3e",
   "execution_count": 20
  },
  {
   "cell_type": "code",
   "outputs": [],
   "source": [
    "logreg = LogisticRegression(random_state=16)\n",
    "logreg.fit(X_train, y_train)\n",
    "y_pred = logreg.predict(X_test)"
   ],
   "metadata": {
    "collapsed": false,
    "ExecuteTime": {
     "end_time": "2024-03-06T17:20:22.430272Z",
     "start_time": "2024-03-06T17:20:22.415590Z"
    }
   },
   "id": "692e0ba8a950e698",
   "execution_count": 21
  },
  {
   "cell_type": "code",
   "outputs": [
    {
     "data": {
      "text/plain": "array([[20,  3],\n       [15,  1]], dtype=int64)"
     },
     "execution_count": 22,
     "metadata": {},
     "output_type": "execute_result"
    }
   ],
   "source": [
    "cnf_matrix = metrics.confusion_matrix(y_test, y_pred)\n",
    "cnf_matrix"
   ],
   "metadata": {
    "collapsed": false,
    "ExecuteTime": {
     "end_time": "2024-03-06T17:20:22.618917Z",
     "start_time": "2024-03-06T17:20:22.608846Z"
    }
   },
   "id": "776f82db75b900a0",
   "execution_count": 22
  },
  {
   "cell_type": "markdown",
   "source": [
    "Visualization"
   ],
   "metadata": {
    "collapsed": false
   },
   "id": "40eb6170847088a3"
  },
  {
   "cell_type": "code",
   "outputs": [
    {
     "data": {
      "text/plain": "Text(0.5, 427.9555555555555, 'Predicted label')"
     },
     "execution_count": 23,
     "metadata": {},
     "output_type": "execute_result"
    },
    {
     "data": {
      "text/plain": "<Figure size 640x480 with 2 Axes>",
      "image/png": "[encoded data removed]"
     },
     "metadata": {},
     "output_type": "display_data"
    }
   ],
   "source": [
    "class_names = [0, 1]\n",
    "fig, ax = plt.subplots()\n",
    "tick_marks = np.arange(len(class_names))\n",
    "plt.xticks(tick_marks, class_names)\n",
    "plt.yticks(tick_marks, class_names)\n",
    "\n",
    "# Create heatmap\n",
    "\n",
    "sns.heatmap(pd.DataFrame(cnf_matrix), annot=True, cmap='YlGnBu', fmt='g')\n",
    "ax.xaxis.set_label_position('top')\n",
    "plt.tight_layout()\n",
    "plt.title('Confusion Matrix', y=1.1)\n",
    "plt.ylabel('Actual label')\n",
    "plt.xlabel('Predicted label')"
   ],
   "metadata": {
    "collapsed": false,
    "ExecuteTime": {
     "end_time": "2024-03-06T17:20:23.140287Z",
     "start_time": "2024-03-06T17:20:22.814958Z"
    }
   },
   "id": "ad339116ab97cdb",
   "execution_count": 23
  },
  {
   "cell_type": "markdown",
   "source": [
    "Model Evaluation"
   ],
   "metadata": {
    "collapsed": false
   },
   "id": "e2c9d421ab45cb32"
  },
  {
   "cell_type": "code",
   "outputs": [
    {
     "name": "stdout",
     "output_type": "stream",
     "text": [
      "              precision    recall  f1-score   support\n",
      "\n",
      "   Sea water       0.57      0.87      0.69        23\n",
      "  Land water       0.25      0.06      0.10        16\n",
      "\n",
      "    accuracy                           0.54        39\n",
      "   macro avg       0.41      0.47      0.39        39\n",
      "weighted avg       0.44      0.54      0.45        39\n"
     ]
    }
   ],
   "source": [
    "target_names = ['Sea water', 'Land water']\n",
    "print(classification_report(y_test, y_pred, target_names=target_names))"
   ],
   "metadata": {
    "collapsed": false,
    "ExecuteTime": {
     "end_time": "2024-03-06T17:24:20.735624Z",
     "start_time": "2024-03-06T17:24:20.706002Z"
    }
   },
   "id": "ecd7dbf8a5202864",
   "execution_count": 26
  },
  {
   "cell_type": "code",
   "outputs": [
    {
     "data": {
      "text/plain": "<Figure size 640x480 with 1 Axes>",
      "image/png": "[encoded data removed]"
     },
     "metadata": {},
     "output_type": "display_data"
    }
   ],
   "source": [
    "y_pred_proba = logreg.predict_proba(X_test)[::,1]\n",
    "fpr, tpr, _ = metrics.roc_curve(y_test, y_pred_proba)\n",
    "auc = metrics.roc_auc_score(y_test, y_pred_proba)\n",
    "plt.plot(fpr, tpr, label='data 1, auc=' + str(auc))\n",
    "plt.legend(loc=4)\n",
    "plt.show()"
   ],
   "metadata": {
    "collapsed": false,
    "ExecuteTime": {
     "end_time": "2024-03-06T17:20:23.432391Z",
     "start_time": "2024-03-06T17:20:23.172316Z"
    }
   },
   "id": "3671b3dfda03e21a",
   "execution_count": 25
  }
 ],
 "metadata": {
  "kernelspec": {
   "display_name": "Python 3",
   "language": "python",
   "name": "python3"
  },
  "language_info": {
   "codemirror_mode": {
    "name": "ipython",
    "version": 2
   },
   "file_extension": ".py",
   "mimetype": "text/x-python",
   "name": "python",
   "nbconvert_exporter": "python",
   "pygments_lexer": "ipython2",
   "version": "2.7.6"
  }
 },
 "nbformat": 4,
 "nbformat_minor": 5
}
