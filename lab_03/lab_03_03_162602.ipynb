{
 "cells": [
  {
   "cell_type": "markdown",
   "source": [
    "Data Scientist Workshop - ex.3.3 - Adam Trentowski, 162602"
   ],
   "metadata": {
    "collapsed": false
   },
   "id": "5e41796f807f7ec3"
  },
  {
   "cell_type": "code",
   "execution_count": 10,
   "id": "initial_id",
   "metadata": {
    "collapsed": true,
    "ExecuteTime": {
     "end_time": "2024-03-14T16:47:26.857306Z",
     "start_time": "2024-03-14T16:47:26.852200Z"
    }
   },
   "outputs": [],
   "source": [
    "import numpy as np\n",
    "import pandas as pd\n",
    "import matplotlib.pyplot as plt\n",
    "from matplotlib.colors import ListedColormap\n",
    "\n",
    "from sklearn.model_selection import train_test_split\n",
    "from sklearn.preprocessing import StandardScaler\n",
    "from sklearn.decomposition import PCA\n",
    "from sklearn.linear_model import LogisticRegression\n",
    "from sklearn.metrics import confusion_matrix, accuracy_score"
   ]
  },
  {
   "cell_type": "code",
   "outputs": [
    {
     "data": {
      "text/plain": "(137, 23)"
     },
     "execution_count": 11,
     "metadata": {},
     "output_type": "execute_result"
    }
   ],
   "source": [
    "dataset = pd.read_csv('D:/Projekty/DataScientistWorkshop/lab_03/files/ToxinsbaseClass.csv')\n",
    "\n",
    "dataset.shape"
   ],
   "metadata": {
    "collapsed": false,
    "ExecuteTime": {
     "end_time": "2024-03-14T16:47:27.172497Z",
     "start_time": "2024-03-14T16:47:27.162176Z"
    }
   },
   "id": "7baa6999746f9620",
   "execution_count": 11
  },
  {
   "cell_type": "code",
   "outputs": [
    {
     "data": {
      "text/plain": "   Latitude   Longitude   MaximumDepth   SecchiDepth   Sampling Depth   \\\n0  46.673750    6.322253           18.0          1.05             10.5   \n1  46.514161    6.773583           13.0          1.60              9.0   \n2  46.354617    6.152489            3.5          3.50              3.0   \n3  47.287447    8.211500           48.0          1.75             12.0   \n4  46.638953    6.286464           32.0          4.00             11.0   \n\n   T_Surf   T_Epi   Zeu / Zmix  BuoyFreq   TP   ...  MC_dmRR   MC_RR   \\\n0     22.5    21.1        0.21      0.01  0.02  ...     0.000     0.0   \n1     20.4    19.3        0.50      0.01  0.09  ...     0.000     0.0   \n2     26.0    25.9        2.00      0.00  0.12  ...     0.000     0.0   \n3     23.9    19.4        0.52      0.01  0.02  ...     0.302     0.0   \n4     21.5    19.7        0.91      0.01  0.07  ...     0.090     0.0   \n\n   MC_dmLR   MC_LR   CYN   ATX   ToxinRichness   TDI    TTC  Toxicity  \n0     0.001   0.000   0.0   0.0              2  0.42  0.001         1  \n1     0.003   0.004   0.0   0.0              3  1.05  0.009         1  \n2     0.002   0.019   0.0   0.0              3  0.39  0.021         1  \n3     0.290   0.005   0.0   0.0              4  1.00  0.668         2  \n4     0.056   0.003   0.0   0.0              4  1.07  0.177         2  \n\n[5 rows x 23 columns]",
      "text/html": "<div>\n<style scoped>\n    .dataframe tbody tr th:only-of-type {\n        vertical-align: middle;\n    }\n\n    .dataframe tbody tr th {\n        vertical-align: top;\n    }\n\n    .dataframe thead th {\n        text-align: right;\n    }\n</style>\n<table border=\"1\" class=\"dataframe\">\n  <thead>\n    <tr style=\"text-align: right;\">\n      <th></th>\n      <th>Latitude</th>\n      <th>Longitude</th>\n      <th>MaximumDepth</th>\n      <th>SecchiDepth</th>\n      <th>Sampling Depth</th>\n      <th>T_Surf</th>\n      <th>T_Epi</th>\n      <th>Zeu / Zmix</th>\n      <th>BuoyFreq</th>\n      <th>TP</th>\n      <th>...</th>\n      <th>MC_dmRR</th>\n      <th>MC_RR</th>\n      <th>MC_dmLR</th>\n      <th>MC_LR</th>\n      <th>CYN</th>\n      <th>ATX</th>\n      <th>ToxinRichness</th>\n      <th>TDI</th>\n      <th>TTC</th>\n      <th>Toxicity</th>\n    </tr>\n  </thead>\n  <tbody>\n    <tr>\n      <th>0</th>\n      <td>46.673750</td>\n      <td>6.322253</td>\n      <td>18.0</td>\n      <td>1.05</td>\n      <td>10.5</td>\n      <td>22.5</td>\n      <td>21.1</td>\n      <td>0.21</td>\n      <td>0.01</td>\n      <td>0.02</td>\n      <td>...</td>\n      <td>0.000</td>\n      <td>0.0</td>\n      <td>0.001</td>\n      <td>0.000</td>\n      <td>0.0</td>\n      <td>0.0</td>\n      <td>2</td>\n      <td>0.42</td>\n      <td>0.001</td>\n      <td>1</td>\n    </tr>\n    <tr>\n      <th>1</th>\n      <td>46.514161</td>\n      <td>6.773583</td>\n      <td>13.0</td>\n      <td>1.60</td>\n      <td>9.0</td>\n      <td>20.4</td>\n      <td>19.3</td>\n      <td>0.50</td>\n      <td>0.01</td>\n      <td>0.09</td>\n      <td>...</td>\n      <td>0.000</td>\n      <td>0.0</td>\n      <td>0.003</td>\n      <td>0.004</td>\n      <td>0.0</td>\n      <td>0.0</td>\n      <td>3</td>\n      <td>1.05</td>\n      <td>0.009</td>\n      <td>1</td>\n    </tr>\n    <tr>\n      <th>2</th>\n      <td>46.354617</td>\n      <td>6.152489</td>\n      <td>3.5</td>\n      <td>3.50</td>\n      <td>3.0</td>\n      <td>26.0</td>\n      <td>25.9</td>\n      <td>2.00</td>\n      <td>0.00</td>\n      <td>0.12</td>\n      <td>...</td>\n      <td>0.000</td>\n      <td>0.0</td>\n      <td>0.002</td>\n      <td>0.019</td>\n      <td>0.0</td>\n      <td>0.0</td>\n      <td>3</td>\n      <td>0.39</td>\n      <td>0.021</td>\n      <td>1</td>\n    </tr>\n    <tr>\n      <th>3</th>\n      <td>47.287447</td>\n      <td>8.211500</td>\n      <td>48.0</td>\n      <td>1.75</td>\n      <td>12.0</td>\n      <td>23.9</td>\n      <td>19.4</td>\n      <td>0.52</td>\n      <td>0.01</td>\n      <td>0.02</td>\n      <td>...</td>\n      <td>0.302</td>\n      <td>0.0</td>\n      <td>0.290</td>\n      <td>0.005</td>\n      <td>0.0</td>\n      <td>0.0</td>\n      <td>4</td>\n      <td>1.00</td>\n      <td>0.668</td>\n      <td>2</td>\n    </tr>\n    <tr>\n      <th>4</th>\n      <td>46.638953</td>\n      <td>6.286464</td>\n      <td>32.0</td>\n      <td>4.00</td>\n      <td>11.0</td>\n      <td>21.5</td>\n      <td>19.7</td>\n      <td>0.91</td>\n      <td>0.01</td>\n      <td>0.07</td>\n      <td>...</td>\n      <td>0.090</td>\n      <td>0.0</td>\n      <td>0.056</td>\n      <td>0.003</td>\n      <td>0.0</td>\n      <td>0.0</td>\n      <td>4</td>\n      <td>1.07</td>\n      <td>0.177</td>\n      <td>2</td>\n    </tr>\n  </tbody>\n</table>\n<p>5 rows × 23 columns</p>\n</div>"
     },
     "execution_count": 12,
     "metadata": {},
     "output_type": "execute_result"
    }
   ],
   "source": [
    "dataset.head()"
   ],
   "metadata": {
    "collapsed": false,
    "ExecuteTime": {
     "end_time": "2024-03-14T16:47:27.476367Z",
     "start_time": "2024-03-14T16:47:27.453036Z"
    }
   },
   "id": "4ec4ef75feffddb0",
   "execution_count": 12
  },
  {
   "cell_type": "code",
   "outputs": [
    {
     "data": {
      "text/plain": "        Latitude   Longitude   MaximumDepth   SecchiDepth   Sampling Depth   \\\ncount  137.000000  137.000000     137.000000    137.000000       137.000000   \nmean    51.104677   14.813468      17.987591      1.486715         6.429927   \nstd      6.051893   10.720521      27.797015      1.258167         4.819238   \nmin     36.755550  -25.788917       1.000000      0.160000         0.700000   \n25%     47.350792   10.983188       4.500000      0.650000         3.000000   \n50%     52.413611   16.698806       9.000000      1.050000         5.000000   \n75%     54.591528   21.592222      23.000000      1.800000         9.000000   \nmax     62.239189   32.832500     251.000000      6.200000        30.000000   \n\n          T_Surf       T_Epi   Zeu / Zmix    BuoyFreq         TP   ...  \\\ncount  137.000000  137.000000  137.000000  137.000000  137.000000  ...   \nmean    22.183212   20.775912    0.987226    0.005693    0.088102  ...   \nstd      3.102930    3.143774    1.117894    0.006159    0.109649  ...   \nmin      9.000000    8.700000    0.040000    0.000000    0.010000  ...   \n25%     20.300000   18.900000    0.350000    0.000000    0.030000  ...   \n50%     22.000000   20.400000    0.550000    0.010000    0.060000  ...   \n75%     23.900000   22.300000    1.230000    0.010000    0.090000  ...   \nmax     31.400000   31.200000    8.800000    0.030000    0.870000  ...   \n\n         MC_dmRR       MC_RR     MC_dmLR       MC_LR         CYN         ATX   \\\ncount  137.000000  137.000000  137.000000  137.000000  137.000000  137.000000   \nmean     0.558226    0.205036    0.156095    0.199876    0.048482    0.028036   \nstd      1.903642    0.507328    0.513956    0.574369    0.209486    0.124335   \nmin      0.000000    0.000000    0.000000    0.000000    0.000000    0.000000   \n25%      0.000000    0.000000    0.002000    0.000000    0.000000    0.000000   \n50%      0.000000    0.000000    0.007000    0.017000    0.000000    0.000000   \n75%      0.086000    0.119000    0.047000    0.098000    0.004000    0.004000   \nmax     14.892000    3.309000    3.166000    3.968000    2.007000    1.333000   \n\n       ToxinRichness         TDI         TTC    Toxicity  \ncount     137.000000  137.000000  137.000000  137.000000  \nmean        3.941606    0.780657    1.350766    1.832117  \nstd         1.625922    0.394969    2.849080    0.800453  \nmin         1.000000    0.000000    0.000000    1.000000  \n25%         3.000000    0.530000    0.033000    1.000000  \n50%         4.000000    0.880000    0.189000    2.000000  \n75%         5.000000    1.060000    0.901000    2.000000  \nmax         7.000000    1.440000   17.189000    3.000000  \n\n[8 rows x 23 columns]",
      "text/html": "<div>\n<style scoped>\n    .dataframe tbody tr th:only-of-type {\n        vertical-align: middle;\n    }\n\n    .dataframe tbody tr th {\n        vertical-align: top;\n    }\n\n    .dataframe thead th {\n        text-align: right;\n    }\n</style>\n<table border=\"1\" class=\"dataframe\">\n  <thead>\n    <tr style=\"text-align: right;\">\n      <th></th>\n      <th>Latitude</th>\n      <th>Longitude</th>\n      <th>MaximumDepth</th>\n      <th>SecchiDepth</th>\n      <th>Sampling Depth</th>\n      <th>T_Surf</th>\n      <th>T_Epi</th>\n      <th>Zeu / Zmix</th>\n      <th>BuoyFreq</th>\n      <th>TP</th>\n      <th>...</th>\n      <th>MC_dmRR</th>\n      <th>MC_RR</th>\n      <th>MC_dmLR</th>\n      <th>MC_LR</th>\n      <th>CYN</th>\n      <th>ATX</th>\n      <th>ToxinRichness</th>\n      <th>TDI</th>\n      <th>TTC</th>\n      <th>Toxicity</th>\n    </tr>\n  </thead>\n  <tbody>\n    <tr>\n      <th>count</th>\n      <td>137.000000</td>\n      <td>137.000000</td>\n      <td>137.000000</td>\n      <td>137.000000</td>\n      <td>137.000000</td>\n      <td>137.000000</td>\n      <td>137.000000</td>\n      <td>137.000000</td>\n      <td>137.000000</td>\n      <td>137.000000</td>\n      <td>...</td>\n      <td>137.000000</td>\n      <td>137.000000</td>\n      <td>137.000000</td>\n      <td>137.000000</td>\n      <td>137.000000</td>\n      <td>137.000000</td>\n      <td>137.000000</td>\n      <td>137.000000</td>\n      <td>137.000000</td>\n      <td>137.000000</td>\n    </tr>\n    <tr>\n      <th>mean</th>\n      <td>51.104677</td>\n      <td>14.813468</td>\n      <td>17.987591</td>\n      <td>1.486715</td>\n      <td>6.429927</td>\n      <td>22.183212</td>\n      <td>20.775912</td>\n      <td>0.987226</td>\n      <td>0.005693</td>\n      <td>0.088102</td>\n      <td>...</td>\n      <td>0.558226</td>\n      <td>0.205036</td>\n      <td>0.156095</td>\n      <td>0.199876</td>\n      <td>0.048482</td>\n      <td>0.028036</td>\n      <td>3.941606</td>\n      <td>0.780657</td>\n      <td>1.350766</td>\n      <td>1.832117</td>\n    </tr>\n    <tr>\n      <th>std</th>\n      <td>6.051893</td>\n      <td>10.720521</td>\n      <td>27.797015</td>\n      <td>1.258167</td>\n      <td>4.819238</td>\n      <td>3.102930</td>\n      <td>3.143774</td>\n      <td>1.117894</td>\n      <td>0.006159</td>\n      <td>0.109649</td>\n      <td>...</td>\n      <td>1.903642</td>\n      <td>0.507328</td>\n      <td>0.513956</td>\n      <td>0.574369</td>\n      <td>0.209486</td>\n      <td>0.124335</td>\n      <td>1.625922</td>\n      <td>0.394969</td>\n      <td>2.849080</td>\n      <td>0.800453</td>\n    </tr>\n    <tr>\n      <th>min</th>\n      <td>36.755550</td>\n      <td>-25.788917</td>\n      <td>1.000000</td>\n      <td>0.160000</td>\n      <td>0.700000</td>\n      <td>9.000000</td>\n      <td>8.700000</td>\n      <td>0.040000</td>\n      <td>0.000000</td>\n      <td>0.010000</td>\n      <td>...</td>\n      <td>0.000000</td>\n      <td>0.000000</td>\n      <td>0.000000</td>\n      <td>0.000000</td>\n      <td>0.000000</td>\n      <td>0.000000</td>\n      <td>1.000000</td>\n      <td>0.000000</td>\n      <td>0.000000</td>\n      <td>1.000000</td>\n    </tr>\n    <tr>\n      <th>25%</th>\n      <td>47.350792</td>\n      <td>10.983188</td>\n      <td>4.500000</td>\n      <td>0.650000</td>\n      <td>3.000000</td>\n      <td>20.300000</td>\n      <td>18.900000</td>\n      <td>0.350000</td>\n      <td>0.000000</td>\n      <td>0.030000</td>\n      <td>...</td>\n      <td>0.000000</td>\n      <td>0.000000</td>\n      <td>0.002000</td>\n      <td>0.000000</td>\n      <td>0.000000</td>\n      <td>0.000000</td>\n      <td>3.000000</td>\n      <td>0.530000</td>\n      <td>0.033000</td>\n      <td>1.000000</td>\n    </tr>\n    <tr>\n      <th>50%</th>\n      <td>52.413611</td>\n      <td>16.698806</td>\n      <td>9.000000</td>\n      <td>1.050000</td>\n      <td>5.000000</td>\n      <td>22.000000</td>\n      <td>20.400000</td>\n      <td>0.550000</td>\n      <td>0.010000</td>\n      <td>0.060000</td>\n      <td>...</td>\n      <td>0.000000</td>\n      <td>0.000000</td>\n      <td>0.007000</td>\n      <td>0.017000</td>\n      <td>0.000000</td>\n      <td>0.000000</td>\n      <td>4.000000</td>\n      <td>0.880000</td>\n      <td>0.189000</td>\n      <td>2.000000</td>\n    </tr>\n    <tr>\n      <th>75%</th>\n      <td>54.591528</td>\n      <td>21.592222</td>\n      <td>23.000000</td>\n      <td>1.800000</td>\n      <td>9.000000</td>\n      <td>23.900000</td>\n      <td>22.300000</td>\n      <td>1.230000</td>\n      <td>0.010000</td>\n      <td>0.090000</td>\n      <td>...</td>\n      <td>0.086000</td>\n      <td>0.119000</td>\n      <td>0.047000</td>\n      <td>0.098000</td>\n      <td>0.004000</td>\n      <td>0.004000</td>\n      <td>5.000000</td>\n      <td>1.060000</td>\n      <td>0.901000</td>\n      <td>2.000000</td>\n    </tr>\n    <tr>\n      <th>max</th>\n      <td>62.239189</td>\n      <td>32.832500</td>\n      <td>251.000000</td>\n      <td>6.200000</td>\n      <td>30.000000</td>\n      <td>31.400000</td>\n      <td>31.200000</td>\n      <td>8.800000</td>\n      <td>0.030000</td>\n      <td>0.870000</td>\n      <td>...</td>\n      <td>14.892000</td>\n      <td>3.309000</td>\n      <td>3.166000</td>\n      <td>3.968000</td>\n      <td>2.007000</td>\n      <td>1.333000</td>\n      <td>7.000000</td>\n      <td>1.440000</td>\n      <td>17.189000</td>\n      <td>3.000000</td>\n    </tr>\n  </tbody>\n</table>\n<p>8 rows × 23 columns</p>\n</div>"
     },
     "execution_count": 13,
     "metadata": {},
     "output_type": "execute_result"
    }
   ],
   "source": [
    "dataset.describe()"
   ],
   "metadata": {
    "collapsed": false,
    "ExecuteTime": {
     "end_time": "2024-03-14T16:47:28.055360Z",
     "start_time": "2024-03-14T16:47:27.967554Z"
    }
   },
   "id": "ea6604e5780e0c5a",
   "execution_count": 13
  },
  {
   "cell_type": "code",
   "outputs": [],
   "source": [
    "X = dataset.iloc[: , 0:21].values\n",
    "y = dataset.iloc[: , 22].values"
   ],
   "metadata": {
    "collapsed": false,
    "ExecuteTime": {
     "end_time": "2024-03-14T16:47:28.237289Z",
     "start_time": "2024-03-14T16:47:28.230725Z"
    }
   },
   "id": "529bf38ba0283b53",
   "execution_count": 14
  },
  {
   "cell_type": "code",
   "outputs": [],
   "source": [
    "X_train, X_test, y_train, y_test = train_test_split(X, y, test_size=0.2, random_state=0)"
   ],
   "metadata": {
    "collapsed": false,
    "ExecuteTime": {
     "end_time": "2024-03-14T16:47:28.577963Z",
     "start_time": "2024-03-14T16:47:28.570932Z"
    }
   },
   "id": "737e2551312360e0",
   "execution_count": 15
  },
  {
   "cell_type": "markdown",
   "source": [
    "Feature scaling"
   ],
   "metadata": {
    "collapsed": false
   },
   "id": "f1823255d4c88cd7"
  },
  {
   "cell_type": "code",
   "outputs": [],
   "source": [
    "sc_X = StandardScaler()\n",
    "X_train = sc_X.fit_transform(X_train)\n",
    "X_test = sc_X.fit_transform(X_test)  # should be .transform()?"
   ],
   "metadata": {
    "collapsed": false,
    "ExecuteTime": {
     "end_time": "2024-03-14T16:47:30.039438Z",
     "start_time": "2024-03-14T16:47:30.031686Z"
    }
   },
   "id": "6c201a241e2323dd",
   "execution_count": 16
  },
  {
   "cell_type": "code",
   "outputs": [],
   "source": [
    "pca = PCA(n_components=2)"
   ],
   "metadata": {
    "collapsed": false,
    "ExecuteTime": {
     "end_time": "2024-03-14T16:47:30.342415Z",
     "start_time": "2024-03-14T16:47:30.333781Z"
    }
   },
   "id": "48d36f1fdcc9967",
   "execution_count": 17
  },
  {
   "cell_type": "markdown",
   "source": [
    "Fitting the feature metric data into PCA model  "
   ],
   "metadata": {
    "collapsed": false
   },
   "id": "45d74954168a9b54"
  },
  {
   "cell_type": "code",
   "outputs": [],
   "source": [
    "X_train = pca.fit_transform(X_train)\n",
    "X_test = pca.fit_transform(X_test)  # should be .transform()?"
   ],
   "metadata": {
    "collapsed": false,
    "ExecuteTime": {
     "end_time": "2024-03-14T16:47:31.616414Z",
     "start_time": "2024-03-14T16:47:31.606495Z"
    }
   },
   "id": "648578283a0d108",
   "execution_count": 18
  },
  {
   "cell_type": "code",
   "outputs": [
    {
     "data": {
      "text/plain": "array([0.26828268, 0.14918599])"
     },
     "execution_count": 19,
     "metadata": {},
     "output_type": "execute_result"
    }
   ],
   "source": [
    "explained_variance = pca.explained_variance_ratio_\n",
    "explained_variance"
   ],
   "metadata": {
    "collapsed": false,
    "ExecuteTime": {
     "end_time": "2024-03-14T16:47:32.873698Z",
     "start_time": "2024-03-14T16:47:32.866546Z"
    }
   },
   "id": "14bd6b9f94dc37f5",
   "execution_count": 19
  },
  {
   "cell_type": "code",
   "outputs": [],
   "source": [
    "classifier = LogisticRegression(random_state=0)"
   ],
   "metadata": {
    "collapsed": false,
    "ExecuteTime": {
     "end_time": "2024-03-14T16:47:34.529350Z",
     "start_time": "2024-03-14T16:47:34.524261Z"
    }
   },
   "id": "882092b1da29aef6",
   "execution_count": 20
  },
  {
   "cell_type": "code",
   "outputs": [
    {
     "data": {
      "text/plain": "LogisticRegression(random_state=0)",
      "text/html": "<style>#sk-container-id-1 {\n  /* Definition of color scheme common for light and dark mode */\n  --sklearn-color-text: black;\n  --sklearn-color-line: gray;\n  /* Definition of color scheme for unfitted estimators */\n  --sklearn-color-unfitted-level-0: #fff5e6;\n  --sklearn-color-unfitted-level-1: #f6e4d2;\n  --sklearn-color-unfitted-level-2: #ffe0b3;\n  --sklearn-color-unfitted-level-3: chocolate;\n  /* Definition of color scheme for fitted estimators */\n  --sklearn-color-fitted-level-0: #f0f8ff;\n  --sklearn-color-fitted-level-1: #d4ebff;\n  --sklearn-color-fitted-level-2: #b3dbfd;\n  --sklearn-color-fitted-level-3: cornflowerblue;\n\n  /* Specific color for light theme */\n  --sklearn-color-text-on-default-background: var(--sg-text-color, var(--theme-code-foreground, var(--jp-content-font-color1, black)));\n  --sklearn-color-background: var(--sg-background-color, var(--theme-background, var(--jp-layout-color0, white)));\n  --sklearn-color-border-box: var(--sg-text-color, var(--theme-code-foreground, var(--jp-content-font-color1, black)));\n  --sklearn-color-icon: #696969;\n\n  @media (prefers-color-scheme: dark) {\n    /* Redefinition of color scheme for dark theme */\n    --sklearn-color-text-on-default-background: var(--sg-text-color, var(--theme-code-foreground, var(--jp-content-font-color1, white)));\n    --sklearn-color-background: var(--sg-background-color, var(--theme-background, var(--jp-layout-color0, #111)));\n    --sklearn-color-border-box: var(--sg-text-color, var(--theme-code-foreground, var(--jp-content-font-color1, white)));\n    --sklearn-color-icon: #878787;\n  }\n}\n\n#sk-container-id-1 {\n  color: var(--sklearn-color-text);\n}\n\n#sk-container-id-1 pre {\n  padding: 0;\n}\n\n#sk-container-id-1 input.sk-hidden--visually {\n  border: 0;\n  clip: rect(1px 1px 1px 1px);\n  clip: rect(1px, 1px, 1px, 1px);\n  height: 1px;\n  margin: -1px;\n  overflow: hidden;\n  padding: 0;\n  position: absolute;\n  width: 1px;\n}\n\n#sk-container-id-1 div.sk-dashed-wrapped {\n  border: 1px dashed var(--sklearn-color-line);\n  margin: 0 0.4em 0.5em 0.4em;\n  box-sizing: border-box;\n  padding-bottom: 0.4em;\n  background-color: var(--sklearn-color-background);\n}\n\n#sk-container-id-1 div.sk-container {\n  /* jupyter's `normalize.less` sets `[hidden] { display: none; }`\n     but bootstrap.min.css set `[hidden] { display: none !important; }`\n     so we also need the `!important` here to be able to override the\n     default hidden behavior on the sphinx rendered scikit-learn.org.\n     See: https://github.com/scikit-learn/scikit-learn/issues/21755 */\n  display: inline-block !important;\n  position: relative;\n}\n\n#sk-container-id-1 div.sk-text-repr-fallback {\n  display: none;\n}\n\ndiv.sk-parallel-item,\ndiv.sk-serial,\ndiv.sk-item {\n  /* draw centered vertical line to link estimators */\n  background-image: linear-gradient(var(--sklearn-color-text-on-default-background), var(--sklearn-color-text-on-default-background));\n  background-size: 2px 100%;\n  background-repeat: no-repeat;\n  background-position: center center;\n}\n\n/* Parallel-specific style estimator block */\n\n#sk-container-id-1 div.sk-parallel-item::after {\n  content: \"\";\n  width: 100%;\n  border-bottom: 2px solid var(--sklearn-color-text-on-default-background);\n  flex-grow: 1;\n}\n\n#sk-container-id-1 div.sk-parallel {\n  display: flex;\n  align-items: stretch;\n  justify-content: center;\n  background-color: var(--sklearn-color-background);\n  position: relative;\n}\n\n#sk-container-id-1 div.sk-parallel-item {\n  display: flex;\n  flex-direction: column;\n}\n\n#sk-container-id-1 div.sk-parallel-item:first-child::after {\n  align-self: flex-end;\n  width: 50%;\n}\n\n#sk-container-id-1 div.sk-parallel-item:last-child::after {\n  align-self: flex-start;\n  width: 50%;\n}\n\n#sk-container-id-1 div.sk-parallel-item:only-child::after {\n  width: 0;\n}\n\n/* Serial-specific style estimator block */\n\n#sk-container-id-1 div.sk-serial {\n  display: flex;\n  flex-direction: column;\n  align-items: center;\n  background-color: var(--sklearn-color-background);\n  padding-right: 1em;\n  padding-left: 1em;\n}\n\n\n/* Toggleable style: style used for estimator/Pipeline/ColumnTransformer box that is\nclickable and can be expanded/collapsed.\n- Pipeline and ColumnTransformer use this feature and define the default style\n- Estimators will overwrite some part of the style using the `sk-estimator` class\n*/\n\n/* Pipeline and ColumnTransformer style (default) */\n\n#sk-container-id-1 div.sk-toggleable {\n  /* Default theme specific background. It is overwritten whether we have a\n  specific estimator or a Pipeline/ColumnTransformer */\n  background-color: var(--sklearn-color-background);\n}\n\n/* Toggleable label */\n#sk-container-id-1 label.sk-toggleable__label {\n  cursor: pointer;\n  display: block;\n  width: 100%;\n  margin-bottom: 0;\n  padding: 0.5em;\n  box-sizing: border-box;\n  text-align: center;\n}\n\n#sk-container-id-1 label.sk-toggleable__label-arrow:before {\n  /* Arrow on the left of the label */\n  content: \"▸\";\n  float: left;\n  margin-right: 0.25em;\n  color: var(--sklearn-color-icon);\n}\n\n#sk-container-id-1 label.sk-toggleable__label-arrow:hover:before {\n  color: var(--sklearn-color-text);\n}\n\n/* Toggleable content - dropdown */\n\n#sk-container-id-1 div.sk-toggleable__content {\n  max-height: 0;\n  max-width: 0;\n  overflow: hidden;\n  text-align: left;\n  /* unfitted */\n  background-color: var(--sklearn-color-unfitted-level-0);\n}\n\n#sk-container-id-1 div.sk-toggleable__content.fitted {\n  /* fitted */\n  background-color: var(--sklearn-color-fitted-level-0);\n}\n\n#sk-container-id-1 div.sk-toggleable__content pre {\n  margin: 0.2em;\n  border-radius: 0.25em;\n  color: var(--sklearn-color-text);\n  /* unfitted */\n  background-color: var(--sklearn-color-unfitted-level-0);\n}\n\n#sk-container-id-1 div.sk-toggleable__content.fitted pre {\n  /* unfitted */\n  background-color: var(--sklearn-color-fitted-level-0);\n}\n\n#sk-container-id-1 input.sk-toggleable__control:checked~div.sk-toggleable__content {\n  /* Expand drop-down */\n  max-height: 200px;\n  max-width: 100%;\n  overflow: auto;\n}\n\n#sk-container-id-1 input.sk-toggleable__control:checked~label.sk-toggleable__label-arrow:before {\n  content: \"▾\";\n}\n\n/* Pipeline/ColumnTransformer-specific style */\n\n#sk-container-id-1 div.sk-label input.sk-toggleable__control:checked~label.sk-toggleable__label {\n  color: var(--sklearn-color-text);\n  background-color: var(--sklearn-color-unfitted-level-2);\n}\n\n#sk-container-id-1 div.sk-label.fitted input.sk-toggleable__control:checked~label.sk-toggleable__label {\n  background-color: var(--sklearn-color-fitted-level-2);\n}\n\n/* Estimator-specific style */\n\n/* Colorize estimator box */\n#sk-container-id-1 div.sk-estimator input.sk-toggleable__control:checked~label.sk-toggleable__label {\n  /* unfitted */\n  background-color: var(--sklearn-color-unfitted-level-2);\n}\n\n#sk-container-id-1 div.sk-estimator.fitted input.sk-toggleable__control:checked~label.sk-toggleable__label {\n  /* fitted */\n  background-color: var(--sklearn-color-fitted-level-2);\n}\n\n#sk-container-id-1 div.sk-label label.sk-toggleable__label,\n#sk-container-id-1 div.sk-label label {\n  /* The background is the default theme color */\n  color: var(--sklearn-color-text-on-default-background);\n}\n\n/* On hover, darken the color of the background */\n#sk-container-id-1 div.sk-label:hover label.sk-toggleable__label {\n  color: var(--sklearn-color-text);\n  background-color: var(--sklearn-color-unfitted-level-2);\n}\n\n/* Label box, darken color on hover, fitted */\n#sk-container-id-1 div.sk-label.fitted:hover label.sk-toggleable__label.fitted {\n  color: var(--sklearn-color-text);\n  background-color: var(--sklearn-color-fitted-level-2);\n}\n\n/* Estimator label */\n\n#sk-container-id-1 div.sk-label label {\n  font-family: monospace;\n  font-weight: bold;\n  display: inline-block;\n  line-height: 1.2em;\n}\n\n#sk-container-id-1 div.sk-label-container {\n  text-align: center;\n}\n\n/* Estimator-specific */\n#sk-container-id-1 div.sk-estimator {\n  font-family: monospace;\n  border: 1px dotted var(--sklearn-color-border-box);\n  border-radius: 0.25em;\n  box-sizing: border-box;\n  margin-bottom: 0.5em;\n  /* unfitted */\n  background-color: var(--sklearn-color-unfitted-level-0);\n}\n\n#sk-container-id-1 div.sk-estimator.fitted {\n  /* fitted */\n  background-color: var(--sklearn-color-fitted-level-0);\n}\n\n/* on hover */\n#sk-container-id-1 div.sk-estimator:hover {\n  /* unfitted */\n  background-color: var(--sklearn-color-unfitted-level-2);\n}\n\n#sk-container-id-1 div.sk-estimator.fitted:hover {\n  /* fitted */\n  background-color: var(--sklearn-color-fitted-level-2);\n}\n\n/* Specification for estimator info (e.g. \"i\" and \"?\") */\n\n/* Common style for \"i\" and \"?\" */\n\n.sk-estimator-doc-link,\na:link.sk-estimator-doc-link,\na:visited.sk-estimator-doc-link {\n  float: right;\n  font-size: smaller;\n  line-height: 1em;\n  font-family: monospace;\n  background-color: var(--sklearn-color-background);\n  border-radius: 1em;\n  height: 1em;\n  width: 1em;\n  text-decoration: none !important;\n  margin-left: 1ex;\n  /* unfitted */\n  border: var(--sklearn-color-unfitted-level-1) 1pt solid;\n  color: var(--sklearn-color-unfitted-level-1);\n}\n\n.sk-estimator-doc-link.fitted,\na:link.sk-estimator-doc-link.fitted,\na:visited.sk-estimator-doc-link.fitted {\n  /* fitted */\n  border: var(--sklearn-color-fitted-level-1) 1pt solid;\n  color: var(--sklearn-color-fitted-level-1);\n}\n\n/* On hover */\ndiv.sk-estimator:hover .sk-estimator-doc-link:hover,\n.sk-estimator-doc-link:hover,\ndiv.sk-label-container:hover .sk-estimator-doc-link:hover,\n.sk-estimator-doc-link:hover {\n  /* unfitted */\n  background-color: var(--sklearn-color-unfitted-level-3);\n  color: var(--sklearn-color-background);\n  text-decoration: none;\n}\n\ndiv.sk-estimator.fitted:hover .sk-estimator-doc-link.fitted:hover,\n.sk-estimator-doc-link.fitted:hover,\ndiv.sk-label-container:hover .sk-estimator-doc-link.fitted:hover,\n.sk-estimator-doc-link.fitted:hover {\n  /* fitted */\n  background-color: var(--sklearn-color-fitted-level-3);\n  color: var(--sklearn-color-background);\n  text-decoration: none;\n}\n\n/* Span, style for the box shown on hovering the info icon */\n.sk-estimator-doc-link span {\n  display: none;\n  z-index: 9999;\n  position: relative;\n  font-weight: normal;\n  right: .2ex;\n  padding: .5ex;\n  margin: .5ex;\n  width: min-content;\n  min-width: 20ex;\n  max-width: 50ex;\n  color: var(--sklearn-color-text);\n  box-shadow: 2pt 2pt 4pt #999;\n  /* unfitted */\n  background: var(--sklearn-color-unfitted-level-0);\n  border: .5pt solid var(--sklearn-color-unfitted-level-3);\n}\n\n.sk-estimator-doc-link.fitted span {\n  /* fitted */\n  background: var(--sklearn-color-fitted-level-0);\n  border: var(--sklearn-color-fitted-level-3);\n}\n\n.sk-estimator-doc-link:hover span {\n  display: block;\n}\n\n/* \"?\"-specific style due to the `<a>` HTML tag */\n\n#sk-container-id-1 a.estimator_doc_link {\n  float: right;\n  font-size: 1rem;\n  line-height: 1em;\n  font-family: monospace;\n  background-color: var(--sklearn-color-background);\n  border-radius: 1rem;\n  height: 1rem;\n  width: 1rem;\n  text-decoration: none;\n  /* unfitted */\n  color: var(--sklearn-color-unfitted-level-1);\n  border: var(--sklearn-color-unfitted-level-1) 1pt solid;\n}\n\n#sk-container-id-1 a.estimator_doc_link.fitted {\n  /* fitted */\n  border: var(--sklearn-color-fitted-level-1) 1pt solid;\n  color: var(--sklearn-color-fitted-level-1);\n}\n\n/* On hover */\n#sk-container-id-1 a.estimator_doc_link:hover {\n  /* unfitted */\n  background-color: var(--sklearn-color-unfitted-level-3);\n  color: var(--sklearn-color-background);\n  text-decoration: none;\n}\n\n#sk-container-id-1 a.estimator_doc_link.fitted:hover {\n  /* fitted */\n  background-color: var(--sklearn-color-fitted-level-3);\n}\n</style><div id=\"sk-container-id-1\" class=\"sk-top-container\"><div class=\"sk-text-repr-fallback\"><pre>LogisticRegression(random_state=0)</pre><b>In a Jupyter environment, please rerun this cell to show the HTML representation or trust the notebook. <br />On GitHub, the HTML representation is unable to render, please try loading this page with nbviewer.org.</b></div><div class=\"sk-container\" hidden><div class=\"sk-item\"><div class=\"sk-estimator fitted sk-toggleable\"><input class=\"sk-toggleable__control sk-hidden--visually\" id=\"sk-estimator-id-1\" type=\"checkbox\" checked><label for=\"sk-estimator-id-1\" class=\"sk-toggleable__label fitted sk-toggleable__label-arrow fitted\">&nbsp;&nbsp;LogisticRegression<a class=\"sk-estimator-doc-link fitted\" rel=\"noreferrer\" target=\"_blank\" href=\"https://scikit-learn.org/1.4/modules/generated/sklearn.linear_model.LogisticRegression.html\">?<span>Documentation for LogisticRegression</span></a><span class=\"sk-estimator-doc-link fitted\">i<span>Fitted</span></span></label><div class=\"sk-toggleable__content fitted\"><pre>LogisticRegression(random_state=0)</pre></div> </div></div></div></div>"
     },
     "execution_count": 21,
     "metadata": {},
     "output_type": "execute_result"
    }
   ],
   "source": [
    "classifier.fit(X_train, y_train)"
   ],
   "metadata": {
    "collapsed": false,
    "ExecuteTime": {
     "end_time": "2024-03-14T16:47:35.541870Z",
     "start_time": "2024-03-14T16:47:35.530076Z"
    }
   },
   "id": "3e687f8b9ad2c110",
   "execution_count": 21
  },
  {
   "cell_type": "code",
   "outputs": [
    {
     "data": {
      "text/plain": "array([1, 1, 1, 3, 1, 1, 2, 1, 1, 1, 3, 1, 1, 3, 3, 1, 1, 3, 3, 3, 3, 2,\n       3, 2, 2, 3, 1, 2], dtype=int64)"
     },
     "execution_count": 22,
     "metadata": {},
     "output_type": "execute_result"
    }
   ],
   "source": [
    "y_pred = classifier.predict(X_test)\n",
    "y_pred"
   ],
   "metadata": {
    "collapsed": false,
    "ExecuteTime": {
     "end_time": "2024-03-14T16:47:37.096534Z",
     "start_time": "2024-03-14T16:47:37.087222Z"
    }
   },
   "id": "5859c66681f67436",
   "execution_count": 22
  },
  {
   "cell_type": "markdown",
   "source": [
    "Making a confusion matrix"
   ],
   "metadata": {
    "collapsed": false
   },
   "id": "b99c016b64472a4f"
  },
  {
   "cell_type": "code",
   "outputs": [
    {
     "data": {
      "text/plain": "array([[9, 3, 0],\n       [3, 2, 5],\n       [1, 0, 5]], dtype=int64)"
     },
     "execution_count": 23,
     "metadata": {},
     "output_type": "execute_result"
    }
   ],
   "source": [
    "confusion_matric = confusion_matrix(y_test, y_pred)\n",
    "confusion_matric"
   ],
   "metadata": {
    "collapsed": false,
    "ExecuteTime": {
     "end_time": "2024-03-14T16:47:37.889951Z",
     "start_time": "2024-03-14T16:47:37.882421Z"
    }
   },
   "id": "7392ac77293143c3",
   "execution_count": 23
  },
  {
   "cell_type": "markdown",
   "source": [
    "Accuracy score"
   ],
   "metadata": {
    "collapsed": false
   },
   "id": "ad8fe7a161fca784"
  },
  {
   "cell_type": "code",
   "outputs": [
    {
     "data": {
      "text/plain": "0.5714285714285714"
     },
     "execution_count": 24,
     "metadata": {},
     "output_type": "execute_result"
    }
   ],
   "source": [
    "accuracy = accuracy_score(y_test, y_pred)\n",
    "accuracy"
   ],
   "metadata": {
    "collapsed": false,
    "ExecuteTime": {
     "end_time": "2024-03-14T16:47:38.950140Z",
     "start_time": "2024-03-14T16:47:38.943869Z"
    }
   },
   "id": "8c26ab64651c5067",
   "execution_count": 24
  },
  {
   "cell_type": "markdown",
   "source": [
    "Making the prediction of train set result"
   ],
   "metadata": {
    "collapsed": false
   },
   "id": "506cfcc6902b324d"
  },
  {
   "cell_type": "code",
   "outputs": [
    {
     "data": {
      "text/plain": "array([1, 1, 1, 2, 1, 1, 1, 1, 1, 2, 1, 3, 2, 1, 3, 3, 3, 1, 2, 2, 1, 3,\n       2, 1, 1, 2, 3, 1, 1, 1, 1, 2, 1, 2, 1, 2, 3, 3, 1, 1, 1, 3, 1, 2,\n       1, 1, 2, 3, 1, 1, 2, 1, 1, 1, 1, 1, 2, 2, 2, 2, 3, 1, 1, 3, 2, 2,\n       2, 3, 3, 2, 2, 2, 1, 2, 1, 1, 1, 2, 3, 3, 3, 1, 1, 1, 3, 3, 2, 2,\n       2, 2, 1, 2, 1, 3, 2, 2, 3, 1, 2, 2, 2, 2, 1, 3, 1, 2, 3, 1, 1],\n      dtype=int64)"
     },
     "execution_count": 25,
     "metadata": {},
     "output_type": "execute_result"
    }
   ],
   "source": [
    "y_pred = classifier.predict(X_train)\n",
    "y_pred"
   ],
   "metadata": {
    "collapsed": false,
    "ExecuteTime": {
     "end_time": "2024-03-14T16:47:39.628115Z",
     "start_time": "2024-03-14T16:47:39.620894Z"
    }
   },
   "id": "5d12c69fc35e84ff",
   "execution_count": 25
  },
  {
   "cell_type": "markdown",
   "source": [
    "Making a confusion matrix"
   ],
   "metadata": {
    "collapsed": false
   },
   "id": "a5aa3c180d9dda7a"
  },
  {
   "cell_type": "code",
   "outputs": [
    {
     "data": {
      "text/plain": "array([[38,  7,  0],\n       [10, 22,  4],\n       [ 1,  8, 19]], dtype=int64)"
     },
     "execution_count": 26,
     "metadata": {},
     "output_type": "execute_result"
    }
   ],
   "source": [
    "confusion_matric = confusion_matrix(y_train, y_pred)\n",
    "confusion_matric"
   ],
   "metadata": {
    "collapsed": false,
    "ExecuteTime": {
     "end_time": "2024-03-14T16:47:40.523627Z",
     "start_time": "2024-03-14T16:47:40.516020Z"
    }
   },
   "id": "4ef5a15e7f05d82f",
   "execution_count": 26
  },
  {
   "cell_type": "markdown",
   "source": [
    "Accuracy score"
   ],
   "metadata": {
    "collapsed": false
   },
   "id": "89d3d2e85ca6a631"
  },
  {
   "cell_type": "code",
   "outputs": [
    {
     "data": {
      "text/plain": "0.7247706422018348"
     },
     "execution_count": 27,
     "metadata": {},
     "output_type": "execute_result"
    }
   ],
   "source": [
    "accuracy = accuracy_score(y_train, y_pred)\n",
    "accuracy"
   ],
   "metadata": {
    "collapsed": false,
    "ExecuteTime": {
     "end_time": "2024-03-14T16:47:41.249842Z",
     "start_time": "2024-03-14T16:47:41.243059Z"
    }
   },
   "id": "36b2d0758282b73e",
   "execution_count": 27
  },
  {
   "cell_type": "markdown",
   "source": [
    "Visualising the Test set results"
   ],
   "metadata": {
    "collapsed": false
   },
   "id": "b82e8c37540c020f"
  },
  {
   "cell_type": "code",
   "outputs": [
    {
     "name": "stderr",
     "output_type": "stream",
     "text": [
      "C:\\Users\\Adam\\AppData\\Local\\Temp\\ipykernel_19592\\554379438.py:12: UserWarning: *c* argument looks like a single numeric RGB or RGBA sequence, which should be avoided as value-mapping will have precedence in case its length matches with *x* & *y*.  Please use the *color* keyword-argument or provide a 2D array with a single row if you intend to specify the same RGB or RGBA value for all points.\n",
      "  plt.scatter(X_set[y_set == j, 0], X_set[y_set == j, 1], c = ListedColormap(('red', 'green', 'blue'))(i), label = j)\n"
     ]
    },
    {
     "data": {
      "text/plain": "<Figure size 640x480 with 1 Axes>",
      "image/png": "[encoded data removed]"
     },
     "metadata": {},
     "output_type": "display_data"
    }
   ],
   "source": [
    "X_set, y_set = X_test, y_test\n",
    "\n",
    "X1, X2 = np.meshgrid(np.arange(start=X_set[: , 0].min() - 1, stop=X_set[: , 0].max() + 1, step=0.01),\n",
    "                     np.arange(start=X_set[: , 1].min() - 1, stop=X_set[: , 1].max() + 1, step=0.01))\n",
    "\n",
    "plt.contourf(X1, X2, classifier.predict(np.array([X1.ravel(), X2.ravel()]).T).reshape(X1.shape), alpha=0.75, cmap=ListedColormap(('red', 'green', 'blue')))\n",
    "\n",
    "plt.xlim(X1.min(), X1.max())\n",
    "plt.ylim(X2.min(), X2.max())\n",
    "\n",
    "for i, j in enumerate(np.unique(y_set)):\n",
    "    plt.scatter(X_set[y_set == j, 0], X_set[y_set == j, 1], c = ListedColormap(('red', 'green', 'blue'))(i), label = j)\n",
    "\n",
    "plt.title('Logistic Regression (Test set)')\n",
    "plt.xlabel('PCA 1')\n",
    "plt.ylabel('PCA 2')\n",
    "plt.legend()\n",
    "\n",
    "plt.show()"
   ],
   "metadata": {
    "collapsed": false,
    "ExecuteTime": {
     "end_time": "2024-03-14T16:47:43.731488Z",
     "start_time": "2024-03-14T16:47:42.310901Z"
    }
   },
   "id": "10cb93bcf71acfad",
   "execution_count": 28
  },
  {
   "cell_type": "code",
   "outputs": [
    {
     "name": "stderr",
     "output_type": "stream",
     "text": [
      "C:\\Users\\Adam\\AppData\\Local\\Temp\\ipykernel_19592\\1053081278.py:12: UserWarning: *c* argument looks like a single numeric RGB or RGBA sequence, which should be avoided as value-mapping will have precedence in case its length matches with *x* & *y*.  Please use the *color* keyword-argument or provide a 2D array with a single row if you intend to specify the same RGB or RGBA value for all points.\n",
      "  plt.scatter(X_set[y_set == j, 0], X_set[y_set == j, 1], c = ListedColormap(('red', 'green', 'blue'))(i), label = j)\n"
     ]
    },
    {
     "data": {
      "text/plain": "<Figure size 640x480 with 1 Axes>",
      "image/png": "[encoded data removed]"
     },
     "metadata": {},
     "output_type": "display_data"
    }
   ],
   "source": [
    "X_set, y_set = X_train, y_train\n",
    "\n",
    "X1, X2 = np.meshgrid(np.arange(start=X_set[: , 0].min() - 1, stop=X_set[: , 0].max() + 1, step=0.01),\n",
    "                     np.arange(start=X_set[: , 1].min() - 1, stop=X_set[: , 1].max() + 1, step=0.01))\n",
    "\n",
    "plt.contourf(X1, X2, classifier.predict(np.array([X1.ravel(), X2.ravel()]).T).reshape(X1.shape), alpha=0.75, cmap=ListedColormap(('red', 'green', 'blue')))\n",
    "\n",
    "plt.xlim(X1.min(), X1.max())\n",
    "plt.ylim(X2.min(), X2.max())\n",
    "\n",
    "for i, j in enumerate(np.unique(y_set)):\n",
    "    plt.scatter(X_set[y_set == j, 0], X_set[y_set == j, 1], c = ListedColormap(('red', 'green', 'blue'))(i), label = j)\n",
    "\n",
    "plt.title('Logistic Regression (Train set)')\n",
    "plt.xlabel('PCA 1')\n",
    "plt.ylabel('PCA 2')\n",
    "plt.legend()\n",
    "\n",
    "plt.show()"
   ],
   "metadata": {
    "collapsed": false,
    "ExecuteTime": {
     "end_time": "2024-03-14T16:47:44.893653Z",
     "start_time": "2024-03-14T16:47:43.733197Z"
    }
   },
   "id": "ed178ea7f04fd866",
   "execution_count": 29
  },
  {
   "cell_type": "code",
   "outputs": [],
   "source": [],
   "metadata": {
    "collapsed": false
   },
   "id": "48fd31b860b1c316"
  }
 ],
 "metadata": {
  "kernelspec": {
   "display_name": "Python 3",
   "language": "python",
   "name": "python3"
  },
  "language_info": {
   "codemirror_mode": {
    "name": "ipython",
    "version": 2
   },
   "file_extension": ".py",
   "mimetype": "text/x-python",
   "name": "python",
   "nbconvert_exporter": "python",
   "pygments_lexer": "ipython2",
   "version": "2.7.6"
  }
 },
 "nbformat": 4,
 "nbformat_minor": 5
}
